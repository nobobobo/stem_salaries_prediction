{
 "cells": [
  {
   "cell_type": "code",
   "execution_count": 1,
   "id": "7ff364b7-2417-4602-a339-7b4f78d1d09a",
   "metadata": {},
   "outputs": [],
   "source": [
    "%matplotlib inline\n",
    "\n",
    "import warnings\n",
    "warnings.filterwarnings('ignore')"
   ]
  },
  {
   "cell_type": "code",
   "execution_count": 2,
   "id": "b7af61c9-dc5a-4a9b-8f4f-7cf056e2900d",
   "metadata": {},
   "outputs": [],
   "source": [
    "import numpy as np\n",
    "import time\n",
    "import seaborn as sns\n",
    "import matplotlib as mpl\n",
    "import matplotlib.pyplot as plt\n",
    "import scipy.stats as stats\n",
    "import random\n",
    "import patsy\n",
    "import sklearn.linear_model as linear\n",
    "import pandas as pd\n",
    "\n",
    "sns.set(style=\"whitegrid\")\n",
    "pd.set_option('display.float_format', lambda x: '%.3f' % x)"
   ]
  },
  {
   "cell_type": "markdown",
   "id": "734cb7cc-6c4e-47ef-99fc-77702fa824a7",
   "metadata": {},
   "source": [
    "## 1. Load Data and Inspect"
   ]
  },
  {
   "cell_type": "code",
   "execution_count": 3,
   "id": "bbf2900e-8f77-47cf-8cea-2896eecd21c0",
   "metadata": {},
   "outputs": [
    {
     "data": {
      "text/html": [
       "<div>\n",
       "<style scoped>\n",
       "    .dataframe tbody tr th:only-of-type {\n",
       "        vertical-align: middle;\n",
       "    }\n",
       "\n",
       "    .dataframe tbody tr th {\n",
       "        vertical-align: top;\n",
       "    }\n",
       "\n",
       "    .dataframe thead th {\n",
       "        text-align: right;\n",
       "    }\n",
       "</style>\n",
       "<table border=\"1\" class=\"dataframe\">\n",
       "  <thead>\n",
       "    <tr style=\"text-align: right;\">\n",
       "      <th></th>\n",
       "      <th>timestamp</th>\n",
       "      <th>company</th>\n",
       "      <th>level</th>\n",
       "      <th>title</th>\n",
       "      <th>totalyearlycompensation</th>\n",
       "      <th>location</th>\n",
       "      <th>yearsofexperience</th>\n",
       "      <th>yearsatcompany</th>\n",
       "      <th>tag</th>\n",
       "      <th>basesalary</th>\n",
       "      <th>...</th>\n",
       "      <th>Doctorate_Degree</th>\n",
       "      <th>Highschool</th>\n",
       "      <th>Some_College</th>\n",
       "      <th>Race_Asian</th>\n",
       "      <th>Race_White</th>\n",
       "      <th>Race_Two_Or_More</th>\n",
       "      <th>Race_Black</th>\n",
       "      <th>Race_Hispanic</th>\n",
       "      <th>Race</th>\n",
       "      <th>Education</th>\n",
       "    </tr>\n",
       "  </thead>\n",
       "  <tbody>\n",
       "    <tr>\n",
       "      <th>0</th>\n",
       "      <td>6/7/2017 11:33:27</td>\n",
       "      <td>Oracle</td>\n",
       "      <td>L3</td>\n",
       "      <td>Product Manager</td>\n",
       "      <td>127000</td>\n",
       "      <td>Redwood City, CA</td>\n",
       "      <td>1.500</td>\n",
       "      <td>1.500</td>\n",
       "      <td>NaN</td>\n",
       "      <td>107000.000</td>\n",
       "      <td>...</td>\n",
       "      <td>0</td>\n",
       "      <td>0</td>\n",
       "      <td>0</td>\n",
       "      <td>0</td>\n",
       "      <td>0</td>\n",
       "      <td>0</td>\n",
       "      <td>0</td>\n",
       "      <td>0</td>\n",
       "      <td>NaN</td>\n",
       "      <td>NaN</td>\n",
       "    </tr>\n",
       "    <tr>\n",
       "      <th>1</th>\n",
       "      <td>6/10/2017 17:11:29</td>\n",
       "      <td>eBay</td>\n",
       "      <td>SE 2</td>\n",
       "      <td>Software Engineer</td>\n",
       "      <td>100000</td>\n",
       "      <td>San Francisco, CA</td>\n",
       "      <td>5.000</td>\n",
       "      <td>3.000</td>\n",
       "      <td>NaN</td>\n",
       "      <td>0.000</td>\n",
       "      <td>...</td>\n",
       "      <td>0</td>\n",
       "      <td>0</td>\n",
       "      <td>0</td>\n",
       "      <td>0</td>\n",
       "      <td>0</td>\n",
       "      <td>0</td>\n",
       "      <td>0</td>\n",
       "      <td>0</td>\n",
       "      <td>NaN</td>\n",
       "      <td>NaN</td>\n",
       "    </tr>\n",
       "    <tr>\n",
       "      <th>2</th>\n",
       "      <td>6/11/2017 14:53:57</td>\n",
       "      <td>Amazon</td>\n",
       "      <td>L7</td>\n",
       "      <td>Product Manager</td>\n",
       "      <td>310000</td>\n",
       "      <td>Seattle, WA</td>\n",
       "      <td>8.000</td>\n",
       "      <td>0.000</td>\n",
       "      <td>NaN</td>\n",
       "      <td>155000.000</td>\n",
       "      <td>...</td>\n",
       "      <td>0</td>\n",
       "      <td>0</td>\n",
       "      <td>0</td>\n",
       "      <td>0</td>\n",
       "      <td>0</td>\n",
       "      <td>0</td>\n",
       "      <td>0</td>\n",
       "      <td>0</td>\n",
       "      <td>NaN</td>\n",
       "      <td>NaN</td>\n",
       "    </tr>\n",
       "    <tr>\n",
       "      <th>3</th>\n",
       "      <td>6/17/2017 0:23:14</td>\n",
       "      <td>Apple</td>\n",
       "      <td>M1</td>\n",
       "      <td>Software Engineering Manager</td>\n",
       "      <td>372000</td>\n",
       "      <td>Sunnyvale, CA</td>\n",
       "      <td>7.000</td>\n",
       "      <td>5.000</td>\n",
       "      <td>NaN</td>\n",
       "      <td>157000.000</td>\n",
       "      <td>...</td>\n",
       "      <td>0</td>\n",
       "      <td>0</td>\n",
       "      <td>0</td>\n",
       "      <td>0</td>\n",
       "      <td>0</td>\n",
       "      <td>0</td>\n",
       "      <td>0</td>\n",
       "      <td>0</td>\n",
       "      <td>NaN</td>\n",
       "      <td>NaN</td>\n",
       "    </tr>\n",
       "    <tr>\n",
       "      <th>4</th>\n",
       "      <td>6/20/2017 10:58:51</td>\n",
       "      <td>Microsoft</td>\n",
       "      <td>60</td>\n",
       "      <td>Software Engineer</td>\n",
       "      <td>157000</td>\n",
       "      <td>Mountain View, CA</td>\n",
       "      <td>5.000</td>\n",
       "      <td>3.000</td>\n",
       "      <td>NaN</td>\n",
       "      <td>0.000</td>\n",
       "      <td>...</td>\n",
       "      <td>0</td>\n",
       "      <td>0</td>\n",
       "      <td>0</td>\n",
       "      <td>0</td>\n",
       "      <td>0</td>\n",
       "      <td>0</td>\n",
       "      <td>0</td>\n",
       "      <td>0</td>\n",
       "      <td>NaN</td>\n",
       "      <td>NaN</td>\n",
       "    </tr>\n",
       "  </tbody>\n",
       "</table>\n",
       "<p>5 rows × 29 columns</p>\n",
       "</div>"
      ],
      "text/plain": [
       "            timestamp    company level                         title  \\\n",
       "0   6/7/2017 11:33:27     Oracle    L3               Product Manager   \n",
       "1  6/10/2017 17:11:29       eBay  SE 2             Software Engineer   \n",
       "2  6/11/2017 14:53:57     Amazon    L7               Product Manager   \n",
       "3   6/17/2017 0:23:14      Apple    M1  Software Engineering Manager   \n",
       "4  6/20/2017 10:58:51  Microsoft    60             Software Engineer   \n",
       "\n",
       "   totalyearlycompensation           location  yearsofexperience  \\\n",
       "0                   127000   Redwood City, CA              1.500   \n",
       "1                   100000  San Francisco, CA              5.000   \n",
       "2                   310000        Seattle, WA              8.000   \n",
       "3                   372000      Sunnyvale, CA              7.000   \n",
       "4                   157000  Mountain View, CA              5.000   \n",
       "\n",
       "   yearsatcompany  tag  basesalary  ...  Doctorate_Degree  Highschool  \\\n",
       "0           1.500  NaN  107000.000  ...                 0           0   \n",
       "1           3.000  NaN       0.000  ...                 0           0   \n",
       "2           0.000  NaN  155000.000  ...                 0           0   \n",
       "3           5.000  NaN  157000.000  ...                 0           0   \n",
       "4           3.000  NaN       0.000  ...                 0           0   \n",
       "\n",
       "  Some_College Race_Asian  Race_White  Race_Two_Or_More  Race_Black  \\\n",
       "0            0          0           0                 0           0   \n",
       "1            0          0           0                 0           0   \n",
       "2            0          0           0                 0           0   \n",
       "3            0          0           0                 0           0   \n",
       "4            0          0           0                 0           0   \n",
       "\n",
       "   Race_Hispanic  Race  Education  \n",
       "0              0   NaN        NaN  \n",
       "1              0   NaN        NaN  \n",
       "2              0   NaN        NaN  \n",
       "3              0   NaN        NaN  \n",
       "4              0   NaN        NaN  \n",
       "\n",
       "[5 rows x 29 columns]"
      ]
     },
     "execution_count": 3,
     "metadata": {},
     "output_type": "execute_result"
    }
   ],
   "source": [
    "salaries = pd.read_csv('./data/Levels_Fyi_Salary_Data.csv')\n",
    "salaries.head()"
   ]
  },
  {
   "cell_type": "code",
   "execution_count": 4,
   "id": "df9ff5e2-b0db-4c07-b002-eb0834895f1a",
   "metadata": {},
   "outputs": [
    {
     "data": {
      "text/html": [
       "<div>\n",
       "<style scoped>\n",
       "    .dataframe tbody tr th:only-of-type {\n",
       "        vertical-align: middle;\n",
       "    }\n",
       "\n",
       "    .dataframe tbody tr th {\n",
       "        vertical-align: top;\n",
       "    }\n",
       "\n",
       "    .dataframe thead th {\n",
       "        text-align: right;\n",
       "    }\n",
       "</style>\n",
       "<table border=\"1\" class=\"dataframe\">\n",
       "  <thead>\n",
       "    <tr style=\"text-align: right;\">\n",
       "      <th></th>\n",
       "      <th>timestamp</th>\n",
       "      <th>company</th>\n",
       "      <th>level</th>\n",
       "      <th>title</th>\n",
       "      <th>totalyearlycompensation</th>\n",
       "      <th>location</th>\n",
       "      <th>yearsofexperience</th>\n",
       "      <th>yearsatcompany</th>\n",
       "      <th>tag</th>\n",
       "      <th>basesalary</th>\n",
       "      <th>...</th>\n",
       "      <th>Doctorate_Degree</th>\n",
       "      <th>Highschool</th>\n",
       "      <th>Some_College</th>\n",
       "      <th>Race_Asian</th>\n",
       "      <th>Race_White</th>\n",
       "      <th>Race_Two_Or_More</th>\n",
       "      <th>Race_Black</th>\n",
       "      <th>Race_Hispanic</th>\n",
       "      <th>Race</th>\n",
       "      <th>Education</th>\n",
       "    </tr>\n",
       "  </thead>\n",
       "  <tbody>\n",
       "    <tr>\n",
       "      <th>62637</th>\n",
       "      <td>9/9/2018 11:52:32</td>\n",
       "      <td>Google</td>\n",
       "      <td>T4</td>\n",
       "      <td>Software Engineer</td>\n",
       "      <td>327000</td>\n",
       "      <td>Seattle, WA</td>\n",
       "      <td>10.000</td>\n",
       "      <td>1.000</td>\n",
       "      <td>Distributed Systems (Back-End)</td>\n",
       "      <td>155000.000</td>\n",
       "      <td>...</td>\n",
       "      <td>0</td>\n",
       "      <td>0</td>\n",
       "      <td>0</td>\n",
       "      <td>0</td>\n",
       "      <td>0</td>\n",
       "      <td>0</td>\n",
       "      <td>0</td>\n",
       "      <td>0</td>\n",
       "      <td>NaN</td>\n",
       "      <td>NaN</td>\n",
       "    </tr>\n",
       "    <tr>\n",
       "      <th>62638</th>\n",
       "      <td>9/13/2018 8:23:32</td>\n",
       "      <td>Microsoft</td>\n",
       "      <td>62</td>\n",
       "      <td>Software Engineer</td>\n",
       "      <td>237000</td>\n",
       "      <td>Redmond, WA</td>\n",
       "      <td>2.000</td>\n",
       "      <td>2.000</td>\n",
       "      <td>Full Stack</td>\n",
       "      <td>146900.000</td>\n",
       "      <td>...</td>\n",
       "      <td>0</td>\n",
       "      <td>0</td>\n",
       "      <td>0</td>\n",
       "      <td>0</td>\n",
       "      <td>0</td>\n",
       "      <td>0</td>\n",
       "      <td>0</td>\n",
       "      <td>0</td>\n",
       "      <td>NaN</td>\n",
       "      <td>NaN</td>\n",
       "    </tr>\n",
       "    <tr>\n",
       "      <th>62639</th>\n",
       "      <td>9/13/2018 14:35:59</td>\n",
       "      <td>MSFT</td>\n",
       "      <td>63</td>\n",
       "      <td>Software Engineer</td>\n",
       "      <td>220000</td>\n",
       "      <td>Seattle, WA</td>\n",
       "      <td>14.000</td>\n",
       "      <td>12.000</td>\n",
       "      <td>Full Stack</td>\n",
       "      <td>157000.000</td>\n",
       "      <td>...</td>\n",
       "      <td>0</td>\n",
       "      <td>0</td>\n",
       "      <td>0</td>\n",
       "      <td>0</td>\n",
       "      <td>0</td>\n",
       "      <td>0</td>\n",
       "      <td>0</td>\n",
       "      <td>0</td>\n",
       "      <td>NaN</td>\n",
       "      <td>NaN</td>\n",
       "    </tr>\n",
       "    <tr>\n",
       "      <th>62640</th>\n",
       "      <td>9/16/2018 16:10:35</td>\n",
       "      <td>Salesforce</td>\n",
       "      <td>Lead MTS</td>\n",
       "      <td>Software Engineer</td>\n",
       "      <td>280000</td>\n",
       "      <td>San Francisco, CA</td>\n",
       "      <td>8.000</td>\n",
       "      <td>4.000</td>\n",
       "      <td>iOS</td>\n",
       "      <td>194688.000</td>\n",
       "      <td>...</td>\n",
       "      <td>0</td>\n",
       "      <td>0</td>\n",
       "      <td>0</td>\n",
       "      <td>0</td>\n",
       "      <td>0</td>\n",
       "      <td>0</td>\n",
       "      <td>0</td>\n",
       "      <td>0</td>\n",
       "      <td>NaN</td>\n",
       "      <td>NaN</td>\n",
       "    </tr>\n",
       "    <tr>\n",
       "      <th>62641</th>\n",
       "      <td>1/29/2019 5:12:59</td>\n",
       "      <td>apple</td>\n",
       "      <td>ict3</td>\n",
       "      <td>Software Engineer</td>\n",
       "      <td>200000</td>\n",
       "      <td>Sunnyvale, CA</td>\n",
       "      <td>0.000</td>\n",
       "      <td>0.000</td>\n",
       "      <td>ML / AI</td>\n",
       "      <td>155000.000</td>\n",
       "      <td>...</td>\n",
       "      <td>0</td>\n",
       "      <td>0</td>\n",
       "      <td>0</td>\n",
       "      <td>0</td>\n",
       "      <td>0</td>\n",
       "      <td>0</td>\n",
       "      <td>0</td>\n",
       "      <td>0</td>\n",
       "      <td>NaN</td>\n",
       "      <td>NaN</td>\n",
       "    </tr>\n",
       "  </tbody>\n",
       "</table>\n",
       "<p>5 rows × 29 columns</p>\n",
       "</div>"
      ],
      "text/plain": [
       "                timestamp     company     level              title  \\\n",
       "62637   9/9/2018 11:52:32      Google        T4  Software Engineer   \n",
       "62638   9/13/2018 8:23:32   Microsoft        62  Software Engineer   \n",
       "62639  9/13/2018 14:35:59        MSFT        63  Software Engineer   \n",
       "62640  9/16/2018 16:10:35  Salesforce  Lead MTS  Software Engineer   \n",
       "62641   1/29/2019 5:12:59       apple      ict3  Software Engineer   \n",
       "\n",
       "       totalyearlycompensation           location  yearsofexperience  \\\n",
       "62637                   327000        Seattle, WA             10.000   \n",
       "62638                   237000        Redmond, WA              2.000   \n",
       "62639                   220000        Seattle, WA             14.000   \n",
       "62640                   280000  San Francisco, CA              8.000   \n",
       "62641                   200000      Sunnyvale, CA              0.000   \n",
       "\n",
       "       yearsatcompany                             tag  basesalary  ...  \\\n",
       "62637           1.000  Distributed Systems (Back-End)  155000.000  ...   \n",
       "62638           2.000                      Full Stack  146900.000  ...   \n",
       "62639          12.000                      Full Stack  157000.000  ...   \n",
       "62640           4.000                             iOS  194688.000  ...   \n",
       "62641           0.000                         ML / AI  155000.000  ...   \n",
       "\n",
       "       Doctorate_Degree  Highschool Some_College Race_Asian  Race_White  \\\n",
       "62637                 0           0            0          0           0   \n",
       "62638                 0           0            0          0           0   \n",
       "62639                 0           0            0          0           0   \n",
       "62640                 0           0            0          0           0   \n",
       "62641                 0           0            0          0           0   \n",
       "\n",
       "       Race_Two_Or_More  Race_Black  Race_Hispanic  Race  Education  \n",
       "62637                 0           0              0   NaN        NaN  \n",
       "62638                 0           0              0   NaN        NaN  \n",
       "62639                 0           0              0   NaN        NaN  \n",
       "62640                 0           0              0   NaN        NaN  \n",
       "62641                 0           0              0   NaN        NaN  \n",
       "\n",
       "[5 rows x 29 columns]"
      ]
     },
     "execution_count": 4,
     "metadata": {},
     "output_type": "execute_result"
    }
   ],
   "source": [
    "salaries.tail()"
   ]
  },
  {
   "cell_type": "code",
   "execution_count": 5,
   "id": "73ff1c99-f9bc-4a55-a52c-007e26cc1a38",
   "metadata": {},
   "outputs": [
    {
     "name": "stdout",
     "output_type": "stream",
     "text": [
      "<class 'pandas.core.frame.DataFrame'>\n",
      "RangeIndex: 62642 entries, 0 to 62641\n",
      "Data columns (total 29 columns):\n",
      " #   Column                   Non-Null Count  Dtype  \n",
      "---  ------                   --------------  -----  \n",
      " 0   timestamp                62642 non-null  object \n",
      " 1   company                  62637 non-null  object \n",
      " 2   level                    62523 non-null  object \n",
      " 3   title                    62642 non-null  object \n",
      " 4   totalyearlycompensation  62642 non-null  int64  \n",
      " 5   location                 62642 non-null  object \n",
      " 6   yearsofexperience        62642 non-null  float64\n",
      " 7   yearsatcompany           62642 non-null  float64\n",
      " 8   tag                      61788 non-null  object \n",
      " 9   basesalary               62642 non-null  float64\n",
      " 10  stockgrantvalue          62642 non-null  float64\n",
      " 11  bonus                    62642 non-null  float64\n",
      " 12  gender                   43102 non-null  object \n",
      " 13  otherdetails             40137 non-null  object \n",
      " 14  cityid                   62642 non-null  int64  \n",
      " 15  dmaid                    62640 non-null  float64\n",
      " 16  rowNumber                62642 non-null  int64  \n",
      " 17  Masters_Degree           62642 non-null  int64  \n",
      " 18  Bachelors_Degree         62642 non-null  int64  \n",
      " 19  Doctorate_Degree         62642 non-null  int64  \n",
      " 20  Highschool               62642 non-null  int64  \n",
      " 21  Some_College             62642 non-null  int64  \n",
      " 22  Race_Asian               62642 non-null  int64  \n",
      " 23  Race_White               62642 non-null  int64  \n",
      " 24  Race_Two_Or_More         62642 non-null  int64  \n",
      " 25  Race_Black               62642 non-null  int64  \n",
      " 26  Race_Hispanic            62642 non-null  int64  \n",
      " 27  Race                     22427 non-null  object \n",
      " 28  Education                30370 non-null  object \n",
      "dtypes: float64(6), int64(13), object(10)\n",
      "memory usage: 13.9+ MB\n"
     ]
    }
   ],
   "source": [
    "salaries.info()"
   ]
  },
  {
   "cell_type": "code",
   "execution_count": 6,
   "id": "63dcabcd-88ba-4e69-abbb-6a8d22cf6750",
   "metadata": {},
   "outputs": [
    {
     "data": {
      "text/plain": [
       "Index(['timestamp', 'company', 'level', 'title', 'totalyearlycompensation',\n",
       "       'location', 'yearsofexperience', 'yearsatcompany', 'tag', 'basesalary',\n",
       "       'stockgrantvalue', 'bonus', 'gender', 'otherdetails', 'cityid', 'dmaid',\n",
       "       'rowNumber', 'Masters_Degree', 'Bachelors_Degree', 'Doctorate_Degree',\n",
       "       'Highschool', 'Some_College', 'Race_Asian', 'Race_White',\n",
       "       'Race_Two_Or_More', 'Race_Black', 'Race_Hispanic', 'Race', 'Education'],\n",
       "      dtype='object')"
      ]
     },
     "execution_count": 6,
     "metadata": {},
     "output_type": "execute_result"
    }
   ],
   "source": [
    "salaries.columns"
   ]
  },
  {
   "cell_type": "markdown",
   "id": "ce7c37e6-36ea-40a7-bde3-668617c76b09",
   "metadata": {},
   "source": [
    "This dataset contains 62642 records, with 29 columns."
   ]
  },
  {
   "cell_type": "code",
   "execution_count": 7,
   "id": "822ffa7d-1e3c-424e-aa20-c79129c9e5dc",
   "metadata": {},
   "outputs": [
    {
     "data": {
      "text/plain": [
       "timestamp                      0\n",
       "company                        5\n",
       "level                        119\n",
       "title                          0\n",
       "totalyearlycompensation        0\n",
       "location                       0\n",
       "yearsofexperience              0\n",
       "yearsatcompany                 0\n",
       "tag                          854\n",
       "basesalary                     0\n",
       "stockgrantvalue                0\n",
       "bonus                          0\n",
       "gender                     19540\n",
       "otherdetails               22505\n",
       "cityid                         0\n",
       "dmaid                          2\n",
       "rowNumber                      0\n",
       "Masters_Degree                 0\n",
       "Bachelors_Degree               0\n",
       "Doctorate_Degree               0\n",
       "Highschool                     0\n",
       "Some_College                   0\n",
       "Race_Asian                     0\n",
       "Race_White                     0\n",
       "Race_Two_Or_More               0\n",
       "Race_Black                     0\n",
       "Race_Hispanic                  0\n",
       "Race                       40215\n",
       "Education                  32272\n",
       "dtype: int64"
      ]
     },
     "execution_count": 7,
     "metadata": {},
     "output_type": "execute_result"
    }
   ],
   "source": [
    "salaries.isnull().sum()"
   ]
  },
  {
   "cell_type": "markdown",
   "id": "bb45f112-3f2f-4c3b-bfec-f94524432e79",
   "metadata": {},
   "source": [
    "## 2. EDA\n",
    "\n",
    "### 2.1. Possible Target Variables - totalyearlycompensation, basesalary, stockgrantvalue, bonus"
   ]
  },
  {
   "cell_type": "code",
   "execution_count": 8,
   "id": "9136a672-e813-49dc-ad69-32202cd828bd",
   "metadata": {},
   "outputs": [
    {
     "data": {
      "text/html": [
       "<div>\n",
       "<style scoped>\n",
       "    .dataframe tbody tr th:only-of-type {\n",
       "        vertical-align: middle;\n",
       "    }\n",
       "\n",
       "    .dataframe tbody tr th {\n",
       "        vertical-align: top;\n",
       "    }\n",
       "\n",
       "    .dataframe thead th {\n",
       "        text-align: right;\n",
       "    }\n",
       "</style>\n",
       "<table border=\"1\" class=\"dataframe\">\n",
       "  <thead>\n",
       "    <tr style=\"text-align: right;\">\n",
       "      <th></th>\n",
       "      <th>totalyearlycompensation</th>\n",
       "      <th>basesalary</th>\n",
       "      <th>stockgrantvalue</th>\n",
       "      <th>bonus</th>\n",
       "    </tr>\n",
       "  </thead>\n",
       "  <tbody>\n",
       "    <tr>\n",
       "      <th>count</th>\n",
       "      <td>62642.000</td>\n",
       "      <td>62642.000</td>\n",
       "      <td>62642.000</td>\n",
       "      <td>62642.000</td>\n",
       "    </tr>\n",
       "    <tr>\n",
       "      <th>mean</th>\n",
       "      <td>216300.374</td>\n",
       "      <td>136687.281</td>\n",
       "      <td>51486.081</td>\n",
       "      <td>19334.747</td>\n",
       "    </tr>\n",
       "    <tr>\n",
       "      <th>std</th>\n",
       "      <td>138033.746</td>\n",
       "      <td>61369.278</td>\n",
       "      <td>81874.569</td>\n",
       "      <td>26781.292</td>\n",
       "    </tr>\n",
       "    <tr>\n",
       "      <th>min</th>\n",
       "      <td>10000.000</td>\n",
       "      <td>0.000</td>\n",
       "      <td>0.000</td>\n",
       "      <td>0.000</td>\n",
       "    </tr>\n",
       "    <tr>\n",
       "      <th>25%</th>\n",
       "      <td>135000.000</td>\n",
       "      <td>108000.000</td>\n",
       "      <td>0.000</td>\n",
       "      <td>1000.000</td>\n",
       "    </tr>\n",
       "    <tr>\n",
       "      <th>50%</th>\n",
       "      <td>188000.000</td>\n",
       "      <td>140000.000</td>\n",
       "      <td>25000.000</td>\n",
       "      <td>14000.000</td>\n",
       "    </tr>\n",
       "    <tr>\n",
       "      <th>75%</th>\n",
       "      <td>264000.000</td>\n",
       "      <td>170000.000</td>\n",
       "      <td>65000.000</td>\n",
       "      <td>26000.000</td>\n",
       "    </tr>\n",
       "    <tr>\n",
       "      <th>max</th>\n",
       "      <td>4980000.000</td>\n",
       "      <td>1659870.000</td>\n",
       "      <td>2800000.000</td>\n",
       "      <td>1000000.000</td>\n",
       "    </tr>\n",
       "  </tbody>\n",
       "</table>\n",
       "</div>"
      ],
      "text/plain": [
       "       totalyearlycompensation  basesalary  stockgrantvalue       bonus\n",
       "count                62642.000   62642.000        62642.000   62642.000\n",
       "mean                216300.374  136687.281        51486.081   19334.747\n",
       "std                 138033.746   61369.278        81874.569   26781.292\n",
       "min                  10000.000       0.000            0.000       0.000\n",
       "25%                 135000.000  108000.000            0.000    1000.000\n",
       "50%                 188000.000  140000.000        25000.000   14000.000\n",
       "75%                 264000.000  170000.000        65000.000   26000.000\n",
       "max                4980000.000 1659870.000      2800000.000 1000000.000"
      ]
     },
     "execution_count": 8,
     "metadata": {},
     "output_type": "execute_result"
    }
   ],
   "source": [
    "salaries[['totalyearlycompensation', 'basesalary', 'stockgrantvalue', 'bonus']].describe()"
   ]
  },
  {
   "cell_type": "code",
   "execution_count": 9,
   "id": "4e598255-8413-46f2-aec7-eac75c140dcb",
   "metadata": {},
   "outputs": [
    {
     "data": {
      "image/png": "[encoded data removed]",
      "text/plain": [
       "<Figure size 1152x864 with 4 Axes>"
      ]
     },
     "metadata": {},
     "output_type": "display_data"
    }
   ],
   "source": [
    "cols = ['totalyearlycompensation', 'basesalary', 'stockgrantvalue', 'bonus']\n",
    "plt.figure(4, figsize=(16,12))\n",
    "for i in range(len(cols)):\n",
    "    plt.subplot(2,2,i+1)\n",
    "    plt.hist(salaries[cols[i]], bins=100)\n",
    "    plt.title(cols[i])\n",
    "    \n",
    "    current_values = plt.gca().get_xticks()\n",
    "    plt.gca().set_xticklabels(['{:.0f}'.format(x) for x in current_values])\n",
    "plt.show()"
   ]
  },
  {
   "cell_type": "code",
   "execution_count": 10,
   "id": "f6502479-ddd4-4baa-9f56-fd8977dd862c",
   "metadata": {},
   "outputs": [
    {
     "data": {
      "text/html": [
       "<div>\n",
       "<style scoped>\n",
       "    .dataframe tbody tr th:only-of-type {\n",
       "        vertical-align: middle;\n",
       "    }\n",
       "\n",
       "    .dataframe tbody tr th {\n",
       "        vertical-align: top;\n",
       "    }\n",
       "\n",
       "    .dataframe thead th {\n",
       "        text-align: right;\n",
       "    }\n",
       "</style>\n",
       "<table border=\"1\" class=\"dataframe\">\n",
       "  <thead>\n",
       "    <tr style=\"text-align: right;\">\n",
       "      <th></th>\n",
       "      <th>timestamp</th>\n",
       "      <th>company</th>\n",
       "      <th>level</th>\n",
       "      <th>title</th>\n",
       "      <th>totalyearlycompensation</th>\n",
       "      <th>location</th>\n",
       "      <th>yearsofexperience</th>\n",
       "      <th>yearsatcompany</th>\n",
       "      <th>tag</th>\n",
       "      <th>basesalary</th>\n",
       "      <th>...</th>\n",
       "      <th>Doctorate_Degree</th>\n",
       "      <th>Highschool</th>\n",
       "      <th>Some_College</th>\n",
       "      <th>Race_Asian</th>\n",
       "      <th>Race_White</th>\n",
       "      <th>Race_Two_Or_More</th>\n",
       "      <th>Race_Black</th>\n",
       "      <th>Race_Hispanic</th>\n",
       "      <th>Race</th>\n",
       "      <th>Education</th>\n",
       "    </tr>\n",
       "  </thead>\n",
       "  <tbody>\n",
       "    <tr>\n",
       "      <th>1</th>\n",
       "      <td>6/10/2017 17:11:29</td>\n",
       "      <td>eBay</td>\n",
       "      <td>SE 2</td>\n",
       "      <td>Software Engineer</td>\n",
       "      <td>100000</td>\n",
       "      <td>San Francisco, CA</td>\n",
       "      <td>5.000</td>\n",
       "      <td>3.000</td>\n",
       "      <td>NaN</td>\n",
       "      <td>0.000</td>\n",
       "      <td>...</td>\n",
       "      <td>0</td>\n",
       "      <td>0</td>\n",
       "      <td>0</td>\n",
       "      <td>0</td>\n",
       "      <td>0</td>\n",
       "      <td>0</td>\n",
       "      <td>0</td>\n",
       "      <td>0</td>\n",
       "      <td>NaN</td>\n",
       "      <td>NaN</td>\n",
       "    </tr>\n",
       "    <tr>\n",
       "      <th>4</th>\n",
       "      <td>6/20/2017 10:58:51</td>\n",
       "      <td>Microsoft</td>\n",
       "      <td>60</td>\n",
       "      <td>Software Engineer</td>\n",
       "      <td>157000</td>\n",
       "      <td>Mountain View, CA</td>\n",
       "      <td>5.000</td>\n",
       "      <td>3.000</td>\n",
       "      <td>NaN</td>\n",
       "      <td>0.000</td>\n",
       "      <td>...</td>\n",
       "      <td>0</td>\n",
       "      <td>0</td>\n",
       "      <td>0</td>\n",
       "      <td>0</td>\n",
       "      <td>0</td>\n",
       "      <td>0</td>\n",
       "      <td>0</td>\n",
       "      <td>0</td>\n",
       "      <td>NaN</td>\n",
       "      <td>NaN</td>\n",
       "    </tr>\n",
       "    <tr>\n",
       "      <th>5</th>\n",
       "      <td>6/21/2017 17:27:47</td>\n",
       "      <td>Microsoft</td>\n",
       "      <td>63</td>\n",
       "      <td>Software Engineer</td>\n",
       "      <td>208000</td>\n",
       "      <td>Seattle, WA</td>\n",
       "      <td>8.500</td>\n",
       "      <td>8.500</td>\n",
       "      <td>NaN</td>\n",
       "      <td>0.000</td>\n",
       "      <td>...</td>\n",
       "      <td>0</td>\n",
       "      <td>0</td>\n",
       "      <td>0</td>\n",
       "      <td>0</td>\n",
       "      <td>0</td>\n",
       "      <td>0</td>\n",
       "      <td>0</td>\n",
       "      <td>0</td>\n",
       "      <td>NaN</td>\n",
       "      <td>NaN</td>\n",
       "    </tr>\n",
       "    <tr>\n",
       "      <th>8</th>\n",
       "      <td>6/22/2017 23:08:16</td>\n",
       "      <td>Microsoft</td>\n",
       "      <td>59</td>\n",
       "      <td>Software Engineer</td>\n",
       "      <td>120000</td>\n",
       "      <td>Redmond, WA</td>\n",
       "      <td>3.000</td>\n",
       "      <td>1.000</td>\n",
       "      <td>NaN</td>\n",
       "      <td>0.000</td>\n",
       "      <td>...</td>\n",
       "      <td>0</td>\n",
       "      <td>0</td>\n",
       "      <td>0</td>\n",
       "      <td>0</td>\n",
       "      <td>0</td>\n",
       "      <td>0</td>\n",
       "      <td>0</td>\n",
       "      <td>0</td>\n",
       "      <td>NaN</td>\n",
       "      <td>NaN</td>\n",
       "    </tr>\n",
       "    <tr>\n",
       "      <th>12</th>\n",
       "      <td>7/3/2017 19:28:09</td>\n",
       "      <td>Microsoft</td>\n",
       "      <td>63</td>\n",
       "      <td>Product Manager</td>\n",
       "      <td>150000</td>\n",
       "      <td>Redmond, WA</td>\n",
       "      <td>10.000</td>\n",
       "      <td>10.000</td>\n",
       "      <td>NaN</td>\n",
       "      <td>0.000</td>\n",
       "      <td>...</td>\n",
       "      <td>0</td>\n",
       "      <td>0</td>\n",
       "      <td>0</td>\n",
       "      <td>0</td>\n",
       "      <td>0</td>\n",
       "      <td>0</td>\n",
       "      <td>0</td>\n",
       "      <td>0</td>\n",
       "      <td>NaN</td>\n",
       "      <td>NaN</td>\n",
       "    </tr>\n",
       "    <tr>\n",
       "      <th>...</th>\n",
       "      <td>...</td>\n",
       "      <td>...</td>\n",
       "      <td>...</td>\n",
       "      <td>...</td>\n",
       "      <td>...</td>\n",
       "      <td>...</td>\n",
       "      <td>...</td>\n",
       "      <td>...</td>\n",
       "      <td>...</td>\n",
       "      <td>...</td>\n",
       "      <td>...</td>\n",
       "      <td>...</td>\n",
       "      <td>...</td>\n",
       "      <td>...</td>\n",
       "      <td>...</td>\n",
       "      <td>...</td>\n",
       "      <td>...</td>\n",
       "      <td>...</td>\n",
       "      <td>...</td>\n",
       "      <td>...</td>\n",
       "      <td>...</td>\n",
       "    </tr>\n",
       "    <tr>\n",
       "      <th>11007</th>\n",
       "      <td>9/17/2019 0:07:31</td>\n",
       "      <td>Apple</td>\n",
       "      <td>ICT3</td>\n",
       "      <td>Software Engineer</td>\n",
       "      <td>240000</td>\n",
       "      <td>Cupertino, CA</td>\n",
       "      <td>10.000</td>\n",
       "      <td>5.000</td>\n",
       "      <td>ML / AI</td>\n",
       "      <td>0.000</td>\n",
       "      <td>...</td>\n",
       "      <td>0</td>\n",
       "      <td>0</td>\n",
       "      <td>0</td>\n",
       "      <td>0</td>\n",
       "      <td>0</td>\n",
       "      <td>0</td>\n",
       "      <td>0</td>\n",
       "      <td>0</td>\n",
       "      <td>NaN</td>\n",
       "      <td>NaN</td>\n",
       "    </tr>\n",
       "    <tr>\n",
       "      <th>14957</th>\n",
       "      <td>1/14/2020 16:53:56</td>\n",
       "      <td>Facebook</td>\n",
       "      <td>E4</td>\n",
       "      <td>Software Engineer</td>\n",
       "      <td>195000</td>\n",
       "      <td>Menlo Park, CA</td>\n",
       "      <td>3.000</td>\n",
       "      <td>1.000</td>\n",
       "      <td>Full Stack</td>\n",
       "      <td>0.000</td>\n",
       "      <td>...</td>\n",
       "      <td>0</td>\n",
       "      <td>0</td>\n",
       "      <td>0</td>\n",
       "      <td>0</td>\n",
       "      <td>0</td>\n",
       "      <td>0</td>\n",
       "      <td>0</td>\n",
       "      <td>0</td>\n",
       "      <td>NaN</td>\n",
       "      <td>Master's Degree</td>\n",
       "    </tr>\n",
       "    <tr>\n",
       "      <th>14974</th>\n",
       "      <td>1/14/2020 21:41:27</td>\n",
       "      <td>IBM</td>\n",
       "      <td>Senior Technical Staff Member</td>\n",
       "      <td>Software Engineer</td>\n",
       "      <td>240000</td>\n",
       "      <td>San Francisco, CA</td>\n",
       "      <td>15.000</td>\n",
       "      <td>10.000</td>\n",
       "      <td>Distributed Systems (Back-End)</td>\n",
       "      <td>0.000</td>\n",
       "      <td>...</td>\n",
       "      <td>0</td>\n",
       "      <td>0</td>\n",
       "      <td>0</td>\n",
       "      <td>0</td>\n",
       "      <td>0</td>\n",
       "      <td>0</td>\n",
       "      <td>0</td>\n",
       "      <td>0</td>\n",
       "      <td>NaN</td>\n",
       "      <td>NaN</td>\n",
       "    </tr>\n",
       "    <tr>\n",
       "      <th>14979</th>\n",
       "      <td>1/14/2020 23:09:20</td>\n",
       "      <td>Spotify</td>\n",
       "      <td>Staff Engineer</td>\n",
       "      <td>Software Engineer</td>\n",
       "      <td>310000</td>\n",
       "      <td>New York, NY</td>\n",
       "      <td>9.000</td>\n",
       "      <td>0.000</td>\n",
       "      <td>Distributed Systems (Back-End)</td>\n",
       "      <td>0.000</td>\n",
       "      <td>...</td>\n",
       "      <td>0</td>\n",
       "      <td>0</td>\n",
       "      <td>0</td>\n",
       "      <td>0</td>\n",
       "      <td>0</td>\n",
       "      <td>0</td>\n",
       "      <td>0</td>\n",
       "      <td>0</td>\n",
       "      <td>NaN</td>\n",
       "      <td>NaN</td>\n",
       "    </tr>\n",
       "    <tr>\n",
       "      <th>15030</th>\n",
       "      <td>1/15/2020 19:56:51</td>\n",
       "      <td>Raytheon</td>\n",
       "      <td>g6</td>\n",
       "      <td>Software Engineer</td>\n",
       "      <td>74000</td>\n",
       "      <td>Tucson, AZ</td>\n",
       "      <td>1.000</td>\n",
       "      <td>1.000</td>\n",
       "      <td>embedded</td>\n",
       "      <td>0.000</td>\n",
       "      <td>...</td>\n",
       "      <td>0</td>\n",
       "      <td>0</td>\n",
       "      <td>0</td>\n",
       "      <td>0</td>\n",
       "      <td>0</td>\n",
       "      <td>0</td>\n",
       "      <td>0</td>\n",
       "      <td>0</td>\n",
       "      <td>NaN</td>\n",
       "      <td>NaN</td>\n",
       "    </tr>\n",
       "  </tbody>\n",
       "</table>\n",
       "<p>2304 rows × 29 columns</p>\n",
       "</div>"
      ],
      "text/plain": [
       "                timestamp    company                          level  \\\n",
       "1      6/10/2017 17:11:29       eBay                           SE 2   \n",
       "4      6/20/2017 10:58:51  Microsoft                             60   \n",
       "5      6/21/2017 17:27:47  Microsoft                             63   \n",
       "8      6/22/2017 23:08:16  Microsoft                             59   \n",
       "12      7/3/2017 19:28:09  Microsoft                             63   \n",
       "...                   ...        ...                            ...   \n",
       "11007   9/17/2019 0:07:31      Apple                           ICT3   \n",
       "14957  1/14/2020 16:53:56   Facebook                             E4   \n",
       "14974  1/14/2020 21:41:27        IBM  Senior Technical Staff Member   \n",
       "14979  1/14/2020 23:09:20    Spotify                 Staff Engineer   \n",
       "15030  1/15/2020 19:56:51   Raytheon                             g6   \n",
       "\n",
       "                   title  totalyearlycompensation           location  \\\n",
       "1      Software Engineer                   100000  San Francisco, CA   \n",
       "4      Software Engineer                   157000  Mountain View, CA   \n",
       "5      Software Engineer                   208000        Seattle, WA   \n",
       "8      Software Engineer                   120000        Redmond, WA   \n",
       "12       Product Manager                   150000        Redmond, WA   \n",
       "...                  ...                      ...                ...   \n",
       "11007  Software Engineer                   240000      Cupertino, CA   \n",
       "14957  Software Engineer                   195000     Menlo Park, CA   \n",
       "14974  Software Engineer                   240000  San Francisco, CA   \n",
       "14979  Software Engineer                   310000       New York, NY   \n",
       "15030  Software Engineer                    74000         Tucson, AZ   \n",
       "\n",
       "       yearsofexperience  yearsatcompany                             tag  \\\n",
       "1                  5.000           3.000                             NaN   \n",
       "4                  5.000           3.000                             NaN   \n",
       "5                  8.500           8.500                             NaN   \n",
       "8                  3.000           1.000                             NaN   \n",
       "12                10.000          10.000                             NaN   \n",
       "...                  ...             ...                             ...   \n",
       "11007             10.000           5.000                         ML / AI   \n",
       "14957              3.000           1.000                      Full Stack   \n",
       "14974             15.000          10.000  Distributed Systems (Back-End)   \n",
       "14979              9.000           0.000  Distributed Systems (Back-End)   \n",
       "15030              1.000           1.000                        embedded   \n",
       "\n",
       "       basesalary  ...  Doctorate_Degree  Highschool Some_College Race_Asian  \\\n",
       "1           0.000  ...                 0           0            0          0   \n",
       "4           0.000  ...                 0           0            0          0   \n",
       "5           0.000  ...                 0           0            0          0   \n",
       "8           0.000  ...                 0           0            0          0   \n",
       "12          0.000  ...                 0           0            0          0   \n",
       "...           ...  ...               ...         ...          ...        ...   \n",
       "11007       0.000  ...                 0           0            0          0   \n",
       "14957       0.000  ...                 0           0            0          0   \n",
       "14974       0.000  ...                 0           0            0          0   \n",
       "14979       0.000  ...                 0           0            0          0   \n",
       "15030       0.000  ...                 0           0            0          0   \n",
       "\n",
       "       Race_White  Race_Two_Or_More  Race_Black  Race_Hispanic  Race  \\\n",
       "1               0                 0           0              0   NaN   \n",
       "4               0                 0           0              0   NaN   \n",
       "5               0                 0           0              0   NaN   \n",
       "8               0                 0           0              0   NaN   \n",
       "12              0                 0           0              0   NaN   \n",
       "...           ...               ...         ...            ...   ...   \n",
       "11007           0                 0           0              0   NaN   \n",
       "14957           0                 0           0              0   NaN   \n",
       "14974           0                 0           0              0   NaN   \n",
       "14979           0                 0           0              0   NaN   \n",
       "15030           0                 0           0              0   NaN   \n",
       "\n",
       "             Education  \n",
       "1                  NaN  \n",
       "4                  NaN  \n",
       "5                  NaN  \n",
       "8                  NaN  \n",
       "12                 NaN  \n",
       "...                ...  \n",
       "11007              NaN  \n",
       "14957  Master's Degree  \n",
       "14974              NaN  \n",
       "14979              NaN  \n",
       "15030              NaN  \n",
       "\n",
       "[2304 rows x 29 columns]"
      ]
     },
     "execution_count": 10,
     "metadata": {},
     "output_type": "execute_result"
    }
   ],
   "source": [
    "salaries[salaries.basesalary==0]"
   ]
  },
  {
   "cell_type": "code",
   "execution_count": 11,
   "id": "2395a12a-9ec8-424b-ac87-892d83fc9d45",
   "metadata": {},
   "outputs": [
    {
     "data": {
      "text/plain": [
       "80.13473388461416"
      ]
     },
     "execution_count": 11,
     "metadata": {},
     "output_type": "execute_result"
    }
   ],
   "source": [
    "(salaries.totalyearlycompensation == salaries.basesalary + salaries.stockgrantvalue + salaries.bonus).sum() / salaries.shape[0] * 100"
   ]
  },
  {
   "cell_type": "markdown",
   "id": "aa3a20cb-13e9-42b6-8625-3801c5a13331",
   "metadata": {},
   "source": [
    "### 2.2. timestamp"
   ]
  },
  {
   "cell_type": "code",
   "execution_count": 12,
   "id": "1c44fb11-5c8b-47b4-b09f-693e9ad903df",
   "metadata": {},
   "outputs": [
    {
     "data": {
      "image/png": "[encoded data removed]",
      "text/plain": [
       "<Figure size 1152x576 with 1 Axes>"
      ]
     },
     "metadata": {},
     "output_type": "display_data"
    }
   ],
   "source": [
    "date = pd.to_datetime(salaries.timestamp).dt.date\n",
    "salaries['date'] = date\n",
    "plt.figure(figsize=(16,8))\n",
    "plt.hist(salaries.date, bins=len(date.unique())//30)\n",
    "plt.show()"
   ]
  },
  {
   "cell_type": "code",
   "execution_count": null,
   "id": "a44d2315-a808-494d-952f-b70a7b15a8ea",
   "metadata": {},
   "outputs": [],
   "source": []
  },
  {
   "cell_type": "markdown",
   "id": "4157cfc4-3b4d-4c24-8c92-b29aa1fb7601",
   "metadata": {},
   "source": [
    "### 2.3. company, level, title\n",
    "\n",
    "**2.3.1. company**"
   ]
  },
  {
   "cell_type": "code",
   "execution_count": 13,
   "id": "914964d9-efa6-4362-94b2-28bb39b44e99",
   "metadata": {},
   "outputs": [
    {
     "data": {
      "text/plain": [
       "count      62637\n",
       "unique      1631\n",
       "top       Amazon\n",
       "freq        8126\n",
       "Name: company, dtype: object"
      ]
     },
     "execution_count": 13,
     "metadata": {},
     "output_type": "execute_result"
    }
   ],
   "source": [
    "salaries.company.describe()"
   ]
  },
  {
   "cell_type": "code",
   "execution_count": 14,
   "id": "d220f204-7854-4e27-a7c5-27b2b98044b9",
   "metadata": {},
   "outputs": [
    {
     "data": {
      "text/plain": [
       "Amazon                      8126\n",
       "Microsoft                   5216\n",
       "Google                      4330\n",
       "Facebook                    2990\n",
       "Apple                       2028\n",
       "                            ... \n",
       "Samsung research America       1\n",
       "Bny Mellon                     1\n",
       "yelp                           1\n",
       "Bloomberg lp                   1\n",
       "tableau software               1\n",
       "Name: company, Length: 1631, dtype: int64"
      ]
     },
     "execution_count": 14,
     "metadata": {},
     "output_type": "execute_result"
    }
   ],
   "source": [
    "salaries.company.value_counts()"
   ]
  },
  {
   "cell_type": "code",
   "execution_count": 15,
   "id": "eec61421-5f0b-4df1-9a1a-a1d955edab0e",
   "metadata": {},
   "outputs": [
    {
     "data": {
      "text/plain": [
       "<AxesSubplot:>"
      ]
     },
     "execution_count": 15,
     "metadata": {},
     "output_type": "execute_result"
    },
    {
     "data": {
      "image/png": "[encoded data removed]",
      "text/plain": [
       "<Figure size 432x288 with 1 Axes>"
      ]
     },
     "metadata": {},
     "output_type": "display_data"
    }
   ],
   "source": [
    "(salaries.company.value_counts()/salaries.shape[0])[:25].plot(kind='bar')"
   ]
  },
  {
   "cell_type": "code",
   "execution_count": 16,
   "id": "8b633d42-cc38-472f-901b-1d57a21f3923",
   "metadata": {},
   "outputs": [
    {
     "data": {
      "text/plain": [
       "amazon         8199\n",
       "microsoft      5241\n",
       "google         4362\n",
       "facebook       3004\n",
       "apple          2047\n",
       "               ... \n",
       "metlife           5\n",
       "vizio             5\n",
       "refinitiv         5\n",
       "chick-fil-a       5\n",
       " google           1\n",
       "Name: company, Length: 1101, dtype: int64"
      ]
     },
     "execution_count": 16,
     "metadata": {},
     "output_type": "execute_result"
    }
   ],
   "source": [
    "salaries.company.str.lower().value_counts()"
   ]
  },
  {
   "cell_type": "code",
   "execution_count": 17,
   "id": "d71ef08a-6296-4ebc-bd89-480ae60d3b9f",
   "metadata": {},
   "outputs": [
    {
     "data": {
      "text/plain": [
       "amazon                8199\n",
       "microsoft             5241\n",
       "google                4363\n",
       "facebook              3004\n",
       "apple                 2047\n",
       "                      ... \n",
       "truecar                  5\n",
       "tyler technologies       5\n",
       "sas                      5\n",
       "ping identity            5\n",
       "gemini                   5\n",
       "Name: company, Length: 1100, dtype: int64"
      ]
     },
     "execution_count": 17,
     "metadata": {},
     "output_type": "execute_result"
    }
   ],
   "source": [
    "salaries.company.str.lower().str.strip().value_counts()"
   ]
  },
  {
   "cell_type": "code",
   "execution_count": 18,
   "id": "e7c29799-c042-4681-a340-6c89195469ea",
   "metadata": {},
   "outputs": [
    {
     "data": {
      "text/plain": [
       "<AxesSubplot:>"
      ]
     },
     "execution_count": 18,
     "metadata": {},
     "output_type": "execute_result"
    },
    {
     "data": {
      "image/png": "[encoded data removed]",
      "text/plain": [
       "<Figure size 432x288 with 1 Axes>"
      ]
     },
     "metadata": {},
     "output_type": "display_data"
    }
   ],
   "source": [
    "(salaries.company.str.lower().str.strip().value_counts()/salaries.shape[0])[:25].plot(kind='bar')"
   ]
  },
  {
   "cell_type": "markdown",
   "id": "b47e2b8a-f238-4b57-bb6c-1b5a637d61de",
   "metadata": {},
   "source": [
    "**2.3.2. level**"
   ]
  },
  {
   "cell_type": "code",
   "execution_count": 19,
   "id": "44ef1d62-8630-4327-bda6-298346651364",
   "metadata": {},
   "outputs": [
    {
     "data": {
      "text/plain": [
       "count     62523\n",
       "unique     2923\n",
       "top          L4\n",
       "freq       5014\n",
       "Name: level, dtype: object"
      ]
     },
     "execution_count": 19,
     "metadata": {},
     "output_type": "execute_result"
    }
   ],
   "source": [
    "salaries.level.describe()"
   ]
  },
  {
   "cell_type": "code",
   "execution_count": 20,
   "id": "2df9897c-814f-4c41-93e8-fe76de4f5b0c",
   "metadata": {},
   "outputs": [
    {
     "data": {
      "text/plain": [
       "L4                             5014\n",
       "L5                             4871\n",
       "L3                             3337\n",
       "L6                             2871\n",
       "Senior Software Engineer       1443\n",
       "                               ... \n",
       "Mid Market                        1\n",
       "Gr 7                              1\n",
       "Senior BA                         1\n",
       "Consulting Analyst                1\n",
       "Bioinformatics Scientist II       1\n",
       "Name: level, Length: 2923, dtype: int64"
      ]
     },
     "execution_count": 20,
     "metadata": {},
     "output_type": "execute_result"
    }
   ],
   "source": [
    "salaries.level.value_counts()"
   ]
  },
  {
   "cell_type": "code",
   "execution_count": 21,
   "id": "308e7030-d220-47d7-9260-54f392a28497",
   "metadata": {},
   "outputs": [
    {
     "data": {
      "text/html": [
       "<div>\n",
       "<style scoped>\n",
       "    .dataframe tbody tr th:only-of-type {\n",
       "        vertical-align: middle;\n",
       "    }\n",
       "\n",
       "    .dataframe tbody tr th {\n",
       "        vertical-align: top;\n",
       "    }\n",
       "\n",
       "    .dataframe thead th {\n",
       "        text-align: right;\n",
       "    }\n",
       "</style>\n",
       "<table border=\"1\" class=\"dataframe\">\n",
       "  <thead>\n",
       "    <tr style=\"text-align: right;\">\n",
       "      <th></th>\n",
       "      <th>company</th>\n",
       "      <th>level</th>\n",
       "      <th>count</th>\n",
       "    </tr>\n",
       "  </thead>\n",
       "  <tbody>\n",
       "    <tr>\n",
       "      <th>669</th>\n",
       "      <td>Amazon</td>\n",
       "      <td>L5</td>\n",
       "      <td>2602</td>\n",
       "    </tr>\n",
       "    <tr>\n",
       "      <th>675</th>\n",
       "      <td>Amazon</td>\n",
       "      <td>L6</td>\n",
       "      <td>1755</td>\n",
       "    </tr>\n",
       "    <tr>\n",
       "      <th>667</th>\n",
       "      <td>Amazon</td>\n",
       "      <td>L4</td>\n",
       "      <td>1645</td>\n",
       "    </tr>\n",
       "    <tr>\n",
       "      <th>5201</th>\n",
       "      <td>Google</td>\n",
       "      <td>L4</td>\n",
       "      <td>1335</td>\n",
       "    </tr>\n",
       "    <tr>\n",
       "      <th>5198</th>\n",
       "      <td>Google</td>\n",
       "      <td>L3</td>\n",
       "      <td>1134</td>\n",
       "    </tr>\n",
       "    <tr>\n",
       "      <th>...</th>\n",
       "      <td>...</td>\n",
       "      <td>...</td>\n",
       "      <td>...</td>\n",
       "    </tr>\n",
       "    <tr>\n",
       "      <th>5378</th>\n",
       "      <td>Guidewire Software</td>\n",
       "      <td>Software Engineer I</td>\n",
       "      <td>1</td>\n",
       "    </tr>\n",
       "    <tr>\n",
       "      <th>5379</th>\n",
       "      <td>Gusto</td>\n",
       "      <td>3</td>\n",
       "      <td>1</td>\n",
       "    </tr>\n",
       "    <tr>\n",
       "      <th>5380</th>\n",
       "      <td>Gusto</td>\n",
       "      <td>IC4</td>\n",
       "      <td>1</td>\n",
       "    </tr>\n",
       "    <tr>\n",
       "      <th>5386</th>\n",
       "      <td>H-E-B</td>\n",
       "      <td>1</td>\n",
       "      <td>1</td>\n",
       "    </tr>\n",
       "    <tr>\n",
       "      <th>13450</th>\n",
       "      <td>Google</td>\n",
       "      <td>L3</td>\n",
       "      <td>1</td>\n",
       "    </tr>\n",
       "  </tbody>\n",
       "</table>\n",
       "<p>13451 rows × 3 columns</p>\n",
       "</div>"
      ],
      "text/plain": [
       "                  company                level  count\n",
       "669                Amazon                   L5   2602\n",
       "675                Amazon                   L6   1755\n",
       "667                Amazon                   L4   1645\n",
       "5201               Google                   L4   1335\n",
       "5198               Google                   L3   1134\n",
       "...                   ...                  ...    ...\n",
       "5378   Guidewire Software  Software Engineer I      1\n",
       "5379                Gusto                    3      1\n",
       "5380                Gusto                  IC4      1\n",
       "5386                H-E-B                    1      1\n",
       "13450              Google                   L3      1\n",
       "\n",
       "[13451 rows x 3 columns]"
      ]
     },
     "execution_count": 21,
     "metadata": {},
     "output_type": "execute_result"
    }
   ],
   "source": [
    "salaries.groupby(['company','level']).size().reset_index().rename(columns={0:'count'}).sort_values(by='count', ascending=False)"
   ]
  },
  {
   "cell_type": "markdown",
   "id": "ea380cad-daa4-4929-892e-576d9f390605",
   "metadata": {},
   "source": [
    "**2.3.3. title**"
   ]
  },
  {
   "cell_type": "code",
   "execution_count": 22,
   "id": "8e519154-e5e0-4cda-a246-4b4281164386",
   "metadata": {},
   "outputs": [
    {
     "data": {
      "text/plain": [
       "count                 62642\n",
       "unique                   15\n",
       "top       Software Engineer\n",
       "freq                  41231\n",
       "Name: title, dtype: object"
      ]
     },
     "execution_count": 22,
     "metadata": {},
     "output_type": "execute_result"
    }
   ],
   "source": [
    "salaries.title.describe()"
   ]
  },
  {
   "cell_type": "code",
   "execution_count": 23,
   "id": "f9daf22c-8cb9-4e37-b467-26e1a57dd3d3",
   "metadata": {},
   "outputs": [
    {
     "data": {
      "text/plain": [
       "Software Engineer               41231\n",
       "Product Manager                  4673\n",
       "Software Engineering Manager     3569\n",
       "Data Scientist                   2578\n",
       "Hardware Engineer                2200\n",
       "Product Designer                 1516\n",
       "Technical Program Manager        1381\n",
       "Solution Architect               1157\n",
       "Management Consultant             976\n",
       "Business Analyst                  885\n",
       "Marketing                         710\n",
       "Mechanical Engineer               490\n",
       "Sales                             461\n",
       "Recruiter                         451\n",
       "Human Resources                   364\n",
       "Name: title, dtype: int64"
      ]
     },
     "execution_count": 23,
     "metadata": {},
     "output_type": "execute_result"
    }
   ],
   "source": [
    "salaries.title.value_counts()"
   ]
  },
  {
   "cell_type": "code",
   "execution_count": 24,
   "id": "fe1e4930-46bb-4bd8-b147-acc3b998deac",
   "metadata": {},
   "outputs": [
    {
     "data": {
      "text/plain": [
       "<AxesSubplot:>"
      ]
     },
     "execution_count": 24,
     "metadata": {},
     "output_type": "execute_result"
    },
    {
     "data": {
      "image/png": "[encoded data removed]",
      "text/plain": [
       "<Figure size 432x288 with 1 Axes>"
      ]
     },
     "metadata": {},
     "output_type": "display_data"
    }
   ],
   "source": [
    "(salaries.title.value_counts()/salaries.shape[0]).plot(kind='bar')"
   ]
  },
  {
   "cell_type": "markdown",
   "id": "63937834-672b-4874-9239-5d82c7094c89",
   "metadata": {},
   "source": []
  },
  {
   "cell_type": "markdown",
   "id": "6b9f6896-c34a-4413-ab39-561689199d81",
   "metadata": {},
   "source": [
    "### 2.4. location, cityid\n",
    "\n",
    "**2.4.1. location**"
   ]
  },
  {
   "cell_type": "code",
   "execution_count": 25,
   "id": "40a3eede-4d39-4ff5-8d13-547276a4cd07",
   "metadata": {},
   "outputs": [
    {
     "data": {
      "text/plain": [
       "count           62642\n",
       "unique           1050\n",
       "top       Seattle, WA\n",
       "freq             8701\n",
       "Name: location, dtype: object"
      ]
     },
     "execution_count": 25,
     "metadata": {},
     "output_type": "execute_result"
    }
   ],
   "source": [
    "salaries.location.describe()"
   ]
  },
  {
   "cell_type": "code",
   "execution_count": 26,
   "id": "5c4cac18-f28c-4272-9a95-5389c493cbcb",
   "metadata": {},
   "outputs": [
    {
     "data": {
      "text/plain": [
       "Seattle, WA                      8701\n",
       "San Francisco, CA                6797\n",
       "New York, NY                     4562\n",
       "Redmond, WA                      2649\n",
       "Mountain View, CA                2275\n",
       "                                 ... \n",
       "San Fernando, LB, Philippines       1\n",
       "Suwanee, GA                         1\n",
       "Oxford, MS                          1\n",
       "Wayne, PA                           1\n",
       "Hilbert, WI                         1\n",
       "Name: location, Length: 1050, dtype: int64"
      ]
     },
     "execution_count": 26,
     "metadata": {},
     "output_type": "execute_result"
    }
   ],
   "source": [
    "salaries.location.value_counts()"
   ]
  },
  {
   "cell_type": "code",
   "execution_count": 27,
   "id": "ee2d13be-04d1-44d1-ab0d-4c6c8b61169d",
   "metadata": {},
   "outputs": [
    {
     "data": {
      "text/plain": [
       "<AxesSubplot:>"
      ]
     },
     "execution_count": 27,
     "metadata": {},
     "output_type": "execute_result"
    },
    {
     "data": {
      "image/png": "[encoded data removed]",
      "text/plain": [
       "<Figure size 432x288 with 1 Axes>"
      ]
     },
     "metadata": {},
     "output_type": "display_data"
    }
   ],
   "source": [
    "salaries.location.value_counts()[:25].plot(kind='bar')"
   ]
  },
  {
   "cell_type": "code",
   "execution_count": 28,
   "id": "77d6627b-5e7f-4ef6-968c-675d525684d5",
   "metadata": {},
   "outputs": [
    {
     "data": {
      "text/plain": [
       "<AxesSubplot:>"
      ]
     },
     "execution_count": 28,
     "metadata": {},
     "output_type": "execute_result"
    },
    {
     "data": {
      "image/png": "[encoded data removed]",
      "text/plain": [
       "<Figure size 432x288 with 1 Axes>"
      ]
     },
     "metadata": {},
     "output_type": "display_data"
    }
   ],
   "source": [
    "(salaries.location.value_counts() / salaries.shape[0])[:25].plot(kind='bar')"
   ]
  },
  {
   "cell_type": "markdown",
   "id": "5eb0f61b-cd06-486b-9d04-ed34d3407f80",
   "metadata": {},
   "source": [
    "**2.4.2. cityid**"
   ]
  },
  {
   "cell_type": "code",
   "execution_count": 29,
   "id": "d4dfbeba-3eba-42ef-961e-ad0cbcb647fe",
   "metadata": {},
   "outputs": [
    {
     "data": {
      "text/plain": [
       "count     62642\n",
       "unique     1045\n",
       "top       11527\n",
       "freq       8701\n",
       "Name: cityid, dtype: int64"
      ]
     },
     "execution_count": 29,
     "metadata": {},
     "output_type": "execute_result"
    }
   ],
   "source": [
    "salaries.cityid.astype('object').describe()"
   ]
  },
  {
   "cell_type": "code",
   "execution_count": 30,
   "id": "4c639d60-5ead-466b-8362-81c5639b88c6",
   "metadata": {},
   "outputs": [
    {
     "data": {
      "text/html": [
       "<div>\n",
       "<style scoped>\n",
       "    .dataframe tbody tr th:only-of-type {\n",
       "        vertical-align: middle;\n",
       "    }\n",
       "\n",
       "    .dataframe tbody tr th {\n",
       "        vertical-align: top;\n",
       "    }\n",
       "\n",
       "    .dataframe thead th {\n",
       "        text-align: right;\n",
       "    }\n",
       "</style>\n",
       "<table border=\"1\" class=\"dataframe\">\n",
       "  <thead>\n",
       "    <tr style=\"text-align: right;\">\n",
       "      <th></th>\n",
       "      <th>location</th>\n",
       "      <th>cityid</th>\n",
       "      <th>count</th>\n",
       "    </tr>\n",
       "  </thead>\n",
       "  <tbody>\n",
       "    <tr>\n",
       "      <th>862</th>\n",
       "      <td>Seattle, WA</td>\n",
       "      <td>11527</td>\n",
       "      <td>8701</td>\n",
       "    </tr>\n",
       "    <tr>\n",
       "      <th>825</th>\n",
       "      <td>San Francisco, CA</td>\n",
       "      <td>7419</td>\n",
       "      <td>6796</td>\n",
       "    </tr>\n",
       "    <tr>\n",
       "      <th>645</th>\n",
       "      <td>New York, NY</td>\n",
       "      <td>10182</td>\n",
       "      <td>4562</td>\n",
       "    </tr>\n",
       "    <tr>\n",
       "      <th>766</th>\n",
       "      <td>Redmond, WA</td>\n",
       "      <td>11521</td>\n",
       "      <td>2649</td>\n",
       "    </tr>\n",
       "    <tr>\n",
       "      <th>610</th>\n",
       "      <td>Mountain View, CA</td>\n",
       "      <td>7322</td>\n",
       "      <td>2275</td>\n",
       "    </tr>\n",
       "    <tr>\n",
       "      <th>...</th>\n",
       "      <td>...</td>\n",
       "      <td>...</td>\n",
       "      <td>...</td>\n",
       "    </tr>\n",
       "    <tr>\n",
       "      <th>710</th>\n",
       "      <td>Peachtree City, GA</td>\n",
       "      <td>7964</td>\n",
       "      <td>1</td>\n",
       "    </tr>\n",
       "    <tr>\n",
       "      <th>709</th>\n",
       "      <td>Paterson, NJ</td>\n",
       "      <td>9954</td>\n",
       "      <td>1</td>\n",
       "    </tr>\n",
       "    <tr>\n",
       "      <th>708</th>\n",
       "      <td>Pasir Ris, SG, Singapore</td>\n",
       "      <td>16802</td>\n",
       "      <td>1</td>\n",
       "    </tr>\n",
       "    <tr>\n",
       "      <th>707</th>\n",
       "      <td>Pascagoula, MS</td>\n",
       "      <td>9510</td>\n",
       "      <td>1</td>\n",
       "    </tr>\n",
       "    <tr>\n",
       "      <th>772</th>\n",
       "      <td>Reidsville, NC</td>\n",
       "      <td>9659</td>\n",
       "      <td>1</td>\n",
       "    </tr>\n",
       "  </tbody>\n",
       "</table>\n",
       "<p>1056 rows × 3 columns</p>\n",
       "</div>"
      ],
      "text/plain": [
       "                     location  cityid  count\n",
       "862               Seattle, WA   11527   8701\n",
       "825         San Francisco, CA    7419   6796\n",
       "645              New York, NY   10182   4562\n",
       "766               Redmond, WA   11521   2649\n",
       "610         Mountain View, CA    7322   2275\n",
       "..                        ...     ...    ...\n",
       "710        Peachtree City, GA    7964      1\n",
       "709              Paterson, NJ    9954      1\n",
       "708  Pasir Ris, SG, Singapore   16802      1\n",
       "707            Pascagoula, MS    9510      1\n",
       "772            Reidsville, NC    9659      1\n",
       "\n",
       "[1056 rows x 3 columns]"
      ]
     },
     "execution_count": 30,
     "metadata": {},
     "output_type": "execute_result"
    }
   ],
   "source": [
    "salaries.groupby(['location','cityid']).size().reset_index().rename(columns={0:'count'}).sort_values(by='count', ascending=False)"
   ]
  },
  {
   "cell_type": "code",
   "execution_count": 31,
   "id": "51f35b29-ef74-4fc7-8d48-76a2c5a5eb52",
   "metadata": {},
   "outputs": [],
   "source": [
    "agg = salaries.groupby(['location','cityid']).size().reset_index().rename(columns={0:'count'}).sort_values(by='count', ascending=False)"
   ]
  },
  {
   "cell_type": "code",
   "execution_count": 32,
   "id": "7128cb0d-d70c-433e-b792-44dc2ae1c5f1",
   "metadata": {},
   "outputs": [
    {
     "data": {
      "text/html": [
       "<div>\n",
       "<style scoped>\n",
       "    .dataframe tbody tr th:only-of-type {\n",
       "        vertical-align: middle;\n",
       "    }\n",
       "\n",
       "    .dataframe tbody tr th {\n",
       "        vertical-align: top;\n",
       "    }\n",
       "\n",
       "    .dataframe thead th {\n",
       "        text-align: right;\n",
       "    }\n",
       "</style>\n",
       "<table border=\"1\" class=\"dataframe\">\n",
       "  <thead>\n",
       "    <tr style=\"text-align: right;\">\n",
       "      <th></th>\n",
       "      <th>location</th>\n",
       "      <th>cityid</th>\n",
       "      <th>count</th>\n",
       "    </tr>\n",
       "  </thead>\n",
       "  <tbody>\n",
       "    <tr>\n",
       "      <th>252</th>\n",
       "      <td>Dublin, DN, Ireland</td>\n",
       "      <td>4015</td>\n",
       "      <td>281</td>\n",
       "    </tr>\n",
       "    <tr>\n",
       "      <th>253</th>\n",
       "      <td>Dublin, DN, Ireland</td>\n",
       "      <td>24571</td>\n",
       "      <td>1</td>\n",
       "    </tr>\n",
       "    <tr>\n",
       "      <th>795</th>\n",
       "      <td>Rome, NY</td>\n",
       "      <td>0</td>\n",
       "      <td>1</td>\n",
       "    </tr>\n",
       "    <tr>\n",
       "      <th>796</th>\n",
       "      <td>Rome, NY</td>\n",
       "      <td>10211</td>\n",
       "      <td>1</td>\n",
       "    </tr>\n",
       "    <tr>\n",
       "      <th>813</th>\n",
       "      <td>Saint Petersburg, SP, Russia</td>\n",
       "      <td>1396</td>\n",
       "      <td>46</td>\n",
       "    </tr>\n",
       "    <tr>\n",
       "      <th>812</th>\n",
       "      <td>Saint Petersburg, SP, Russia</td>\n",
       "      <td>1386</td>\n",
       "      <td>1</td>\n",
       "    </tr>\n",
       "    <tr>\n",
       "      <th>825</th>\n",
       "      <td>San Francisco, CA</td>\n",
       "      <td>7419</td>\n",
       "      <td>6796</td>\n",
       "    </tr>\n",
       "    <tr>\n",
       "      <th>826</th>\n",
       "      <td>San Francisco, CA</td>\n",
       "      <td>13245</td>\n",
       "      <td>1</td>\n",
       "    </tr>\n",
       "    <tr>\n",
       "      <th>912</th>\n",
       "      <td>Sunnyvale, CA</td>\n",
       "      <td>7472</td>\n",
       "      <td>2246</td>\n",
       "    </tr>\n",
       "    <tr>\n",
       "      <th>913</th>\n",
       "      <td>Sunnyvale, CA</td>\n",
       "      <td>38731</td>\n",
       "      <td>2</td>\n",
       "    </tr>\n",
       "    <tr>\n",
       "      <th>963</th>\n",
       "      <td>Troy, MI</td>\n",
       "      <td>9150</td>\n",
       "      <td>5</td>\n",
       "    </tr>\n",
       "    <tr>\n",
       "      <th>962</th>\n",
       "      <td>Troy, MI</td>\n",
       "      <td>0</td>\n",
       "      <td>1</td>\n",
       "    </tr>\n",
       "  </tbody>\n",
       "</table>\n",
       "</div>"
      ],
      "text/plain": [
       "                         location  cityid  count\n",
       "252           Dublin, DN, Ireland    4015    281\n",
       "253           Dublin, DN, Ireland   24571      1\n",
       "795                      Rome, NY       0      1\n",
       "796                      Rome, NY   10211      1\n",
       "813  Saint Petersburg, SP, Russia    1396     46\n",
       "812  Saint Petersburg, SP, Russia    1386      1\n",
       "825             San Francisco, CA    7419   6796\n",
       "826             San Francisco, CA   13245      1\n",
       "912                 Sunnyvale, CA    7472   2246\n",
       "913                 Sunnyvale, CA   38731      2\n",
       "963                      Troy, MI    9150      5\n",
       "962                      Troy, MI       0      1"
      ]
     },
     "execution_count": 32,
     "metadata": {},
     "output_type": "execute_result"
    }
   ],
   "source": [
    "agg[agg.duplicated(subset=['location'], keep=False)].sort_values(by='location')"
   ]
  },
  {
   "cell_type": "code",
   "execution_count": 33,
   "id": "74c037bc-6a9d-478d-9e0c-dc35b35539b3",
   "metadata": {},
   "outputs": [
    {
     "data": {
      "text/html": [
       "<div>\n",
       "<style scoped>\n",
       "    .dataframe tbody tr th:only-of-type {\n",
       "        vertical-align: middle;\n",
       "    }\n",
       "\n",
       "    .dataframe tbody tr th {\n",
       "        vertical-align: top;\n",
       "    }\n",
       "\n",
       "    .dataframe thead th {\n",
       "        text-align: right;\n",
       "    }\n",
       "</style>\n",
       "<table border=\"1\" class=\"dataframe\">\n",
       "  <thead>\n",
       "    <tr style=\"text-align: right;\">\n",
       "      <th></th>\n",
       "      <th>location</th>\n",
       "      <th>cityid</th>\n",
       "      <th>count</th>\n",
       "    </tr>\n",
       "  </thead>\n",
       "  <tbody>\n",
       "    <tr>\n",
       "      <th>962</th>\n",
       "      <td>Troy, MI</td>\n",
       "      <td>0</td>\n",
       "      <td>1</td>\n",
       "    </tr>\n",
       "    <tr>\n",
       "      <th>795</th>\n",
       "      <td>Rome, NY</td>\n",
       "      <td>0</td>\n",
       "      <td>1</td>\n",
       "    </tr>\n",
       "    <tr>\n",
       "      <th>924</th>\n",
       "      <td>Taichung City, CN, China</td>\n",
       "      <td>3588</td>\n",
       "      <td>1</td>\n",
       "    </tr>\n",
       "    <tr>\n",
       "      <th>925</th>\n",
       "      <td>Taichung City, TP, Taiwan</td>\n",
       "      <td>3588</td>\n",
       "      <td>4</td>\n",
       "    </tr>\n",
       "    <tr>\n",
       "      <th>822</th>\n",
       "      <td>San Fernando, CA</td>\n",
       "      <td>7418</td>\n",
       "      <td>2</td>\n",
       "    </tr>\n",
       "    <tr>\n",
       "      <th>823</th>\n",
       "      <td>San Fernando, LB, Philippines</td>\n",
       "      <td>7418</td>\n",
       "      <td>1</td>\n",
       "    </tr>\n",
       "    <tr>\n",
       "      <th>590</th>\n",
       "      <td>Monroe, LA</td>\n",
       "      <td>8769</td>\n",
       "      <td>1</td>\n",
       "    </tr>\n",
       "    <tr>\n",
       "      <th>591</th>\n",
       "      <td>Monroe, LA, United States</td>\n",
       "      <td>8769</td>\n",
       "      <td>1</td>\n",
       "    </tr>\n",
       "    <tr>\n",
       "      <th>153</th>\n",
       "      <td>Cambridge, MA</td>\n",
       "      <td>8821</td>\n",
       "      <td>246</td>\n",
       "    </tr>\n",
       "    <tr>\n",
       "      <th>154</th>\n",
       "      <td>Cambridge, MA, United States</td>\n",
       "      <td>8821</td>\n",
       "      <td>2</td>\n",
       "    </tr>\n",
       "    <tr>\n",
       "      <th>780</th>\n",
       "      <td>Richmond, VA</td>\n",
       "      <td>11434</td>\n",
       "      <td>128</td>\n",
       "    </tr>\n",
       "    <tr>\n",
       "      <th>781</th>\n",
       "      <td>Richmond, VA, United States</td>\n",
       "      <td>11434</td>\n",
       "      <td>1</td>\n",
       "    </tr>\n",
       "    <tr>\n",
       "      <th>179</th>\n",
       "      <td>Chennai, undefined, India</td>\n",
       "      <td>13147</td>\n",
       "      <td>4</td>\n",
       "    </tr>\n",
       "    <tr>\n",
       "      <th>178</th>\n",
       "      <td>Chennai, TN, India</td>\n",
       "      <td>13147</td>\n",
       "      <td>98</td>\n",
       "    </tr>\n",
       "    <tr>\n",
       "      <th>824</th>\n",
       "      <td>San Francisco De Dos Rios, SJ, Costa Rica</td>\n",
       "      <td>13245</td>\n",
       "      <td>1</td>\n",
       "    </tr>\n",
       "    <tr>\n",
       "      <th>826</th>\n",
       "      <td>San Francisco, CA</td>\n",
       "      <td>13245</td>\n",
       "      <td>1</td>\n",
       "    </tr>\n",
       "    <tr>\n",
       "      <th>936</th>\n",
       "      <td>Tel Aviv, Israel</td>\n",
       "      <td>15900</td>\n",
       "      <td>2</td>\n",
       "    </tr>\n",
       "    <tr>\n",
       "      <th>937</th>\n",
       "      <td>Tel Aviv, TA, Israel</td>\n",
       "      <td>15900</td>\n",
       "      <td>167</td>\n",
       "    </tr>\n",
       "    <tr>\n",
       "      <th>255</th>\n",
       "      <td>Dublin, IN</td>\n",
       "      <td>24571</td>\n",
       "      <td>3</td>\n",
       "    </tr>\n",
       "    <tr>\n",
       "      <th>253</th>\n",
       "      <td>Dublin, DN, Ireland</td>\n",
       "      <td>24571</td>\n",
       "      <td>1</td>\n",
       "    </tr>\n",
       "    <tr>\n",
       "      <th>913</th>\n",
       "      <td>Sunnyvale, CA</td>\n",
       "      <td>38731</td>\n",
       "      <td>2</td>\n",
       "    </tr>\n",
       "    <tr>\n",
       "      <th>914</th>\n",
       "      <td>Sunnyvale, TX</td>\n",
       "      <td>38731</td>\n",
       "      <td>1</td>\n",
       "    </tr>\n",
       "  </tbody>\n",
       "</table>\n",
       "</div>"
      ],
      "text/plain": [
       "                                      location  cityid  count\n",
       "962                                   Troy, MI       0      1\n",
       "795                                   Rome, NY       0      1\n",
       "924                   Taichung City, CN, China    3588      1\n",
       "925                  Taichung City, TP, Taiwan    3588      4\n",
       "822                           San Fernando, CA    7418      2\n",
       "823              San Fernando, LB, Philippines    7418      1\n",
       "590                                 Monroe, LA    8769      1\n",
       "591                  Monroe, LA, United States    8769      1\n",
       "153                              Cambridge, MA    8821    246\n",
       "154               Cambridge, MA, United States    8821      2\n",
       "780                               Richmond, VA   11434    128\n",
       "781                Richmond, VA, United States   11434      1\n",
       "179                  Chennai, undefined, India   13147      4\n",
       "178                         Chennai, TN, India   13147     98\n",
       "824  San Francisco De Dos Rios, SJ, Costa Rica   13245      1\n",
       "826                          San Francisco, CA   13245      1\n",
       "936                           Tel Aviv, Israel   15900      2\n",
       "937                       Tel Aviv, TA, Israel   15900    167\n",
       "255                                 Dublin, IN   24571      3\n",
       "253                        Dublin, DN, Ireland   24571      1\n",
       "913                              Sunnyvale, CA   38731      2\n",
       "914                              Sunnyvale, TX   38731      1"
      ]
     },
     "execution_count": 33,
     "metadata": {},
     "output_type": "execute_result"
    }
   ],
   "source": [
    "agg[agg.duplicated(subset=['cityid'], keep=False)].sort_values(by='cityid')"
   ]
  },
  {
   "cell_type": "markdown",
   "id": "97340726-01cd-4359-8cfe-088720ea7e54",
   "metadata": {},
   "source": [
    "### 2.5. yearsofexperience, yearsatcompany"
   ]
  },
  {
   "cell_type": "code",
   "execution_count": 34,
   "id": "fa6bf6bc-ec9b-4349-8e7c-2f2f128782f7",
   "metadata": {},
   "outputs": [
    {
     "data": {
      "text/plain": [
       "count   62642.000\n",
       "mean        7.204\n",
       "std         5.840\n",
       "min         0.000\n",
       "25%         3.000\n",
       "50%         6.000\n",
       "75%        10.000\n",
       "max        69.000\n",
       "Name: yearsofexperience, dtype: float64"
      ]
     },
     "execution_count": 34,
     "metadata": {},
     "output_type": "execute_result"
    }
   ],
   "source": [
    "salaries.yearsofexperience.describe()"
   ]
  },
  {
   "cell_type": "code",
   "execution_count": 35,
   "id": "6b38a267-a488-4d6f-8fc7-435d62768338",
   "metadata": {},
   "outputs": [
    {
     "data": {
      "image/png": "[encoded data removed]",
      "text/plain": [
       "<Figure size 432x288 with 1 Axes>"
      ]
     },
     "metadata": {},
     "output_type": "display_data"
    }
   ],
   "source": [
    "plt.hist(salaries.yearsofexperience, bins=30, density=True)\n",
    "plt.show()"
   ]
  },
  {
   "cell_type": "code",
   "execution_count": 36,
   "id": "40649668-eba3-4b84-b1f4-a4f0bfc0ff25",
   "metadata": {},
   "outputs": [
    {
     "data": {
      "text/plain": [
       "count   62642.000\n",
       "mean        2.702\n",
       "std         3.264\n",
       "min         0.000\n",
       "25%         0.000\n",
       "50%         2.000\n",
       "75%         4.000\n",
       "max        69.000\n",
       "Name: yearsatcompany, dtype: float64"
      ]
     },
     "execution_count": 36,
     "metadata": {},
     "output_type": "execute_result"
    }
   ],
   "source": [
    "salaries.yearsatcompany.describe()"
   ]
  },
  {
   "cell_type": "code",
   "execution_count": 37,
   "id": "c1327bab-83fc-4124-9ded-787127816ff8",
   "metadata": {},
   "outputs": [
    {
     "data": {
      "image/png": "[encoded data removed]",
      "text/plain": [
       "<Figure size 432x288 with 1 Axes>"
      ]
     },
     "metadata": {},
     "output_type": "display_data"
    }
   ],
   "source": [
    "plt.hist(salaries.yearsatcompany, bins=30, density=True)\n",
    "plt.show()"
   ]
  },
  {
   "cell_type": "markdown",
   "id": "58f1afac-a817-4e98-beaf-c05d3850ffc8",
   "metadata": {},
   "source": [
    "### 2.6. gender"
   ]
  },
  {
   "cell_type": "code",
   "execution_count": 38,
   "id": "0691dd43-f5f9-4bf2-a67e-1761e07343ad",
   "metadata": {},
   "outputs": [
    {
     "data": {
      "text/plain": [
       "count     43102\n",
       "unique        4\n",
       "top        Male\n",
       "freq      35702\n",
       "Name: gender, dtype: object"
      ]
     },
     "execution_count": 38,
     "metadata": {},
     "output_type": "execute_result"
    }
   ],
   "source": [
    "salaries.gender.describe()"
   ]
  },
  {
   "cell_type": "code",
   "execution_count": 39,
   "id": "b5f1549d-8bb3-4f1b-8240-7015c2cc877b",
   "metadata": {},
   "outputs": [
    {
     "name": "stdout",
     "output_type": "stream",
     "text": [
      "<class 'pandas.core.series.Series'>\n",
      "RangeIndex: 62642 entries, 0 to 62641\n",
      "Series name: gender\n",
      "Non-Null Count  Dtype \n",
      "--------------  ----- \n",
      "43102 non-null  object\n",
      "dtypes: object(1)\n",
      "memory usage: 489.5+ KB\n"
     ]
    }
   ],
   "source": [
    "salaries.gender.info()"
   ]
  },
  {
   "cell_type": "code",
   "execution_count": 40,
   "id": "a08efb13-7e40-4c50-bb14-6f8243ff2dca",
   "metadata": {},
   "outputs": [
    {
     "data": {
      "text/plain": [
       "Male                              0.570\n",
       "Female                            0.112\n",
       "Other                             0.006\n",
       "Title: Senior Software Engineer   0.000\n",
       "Name: gender, dtype: float64"
      ]
     },
     "execution_count": 40,
     "metadata": {},
     "output_type": "execute_result"
    }
   ],
   "source": [
    "salaries.gender.value_counts() / salaries.shape[0]"
   ]
  },
  {
   "cell_type": "code",
   "execution_count": 41,
   "id": "3779b03a-c0c4-4ff9-beeb-88467fc03a0f",
   "metadata": {},
   "outputs": [
    {
     "name": "stdout",
     "output_type": "stream",
     "text": [
      "<class 'pandas.core.series.Series'>\n",
      "RangeIndex: 62642 entries, 0 to 62641\n",
      "Series name: gender\n",
      "Non-Null Count  Dtype \n",
      "--------------  ----- \n",
      "43102 non-null  object\n",
      "dtypes: object(1)\n",
      "memory usage: 489.5+ KB\n"
     ]
    }
   ],
   "source": [
    "salaries.gender.info()"
   ]
  },
  {
   "cell_type": "code",
   "execution_count": 42,
   "id": "b943b3b7-acbc-4746-b8d7-ccd830d84bc0",
   "metadata": {},
   "outputs": [],
   "source": [
    "salaries.gender.replace('Title: Senior Software Engineer', np.nan, inplace=True)\n",
    "salaries.gender.replace(np.nan, 'Unknown', inplace=True)"
   ]
  },
  {
   "cell_type": "code",
   "execution_count": 43,
   "id": "fd6a6d43-8b99-42f5-84e8-801f21314ebc",
   "metadata": {},
   "outputs": [
    {
     "data": {
      "text/plain": [
       "Male      0.570\n",
       "Unknown   0.312\n",
       "Female    0.112\n",
       "Other     0.006\n",
       "Name: gender, dtype: float64"
      ]
     },
     "execution_count": 43,
     "metadata": {},
     "output_type": "execute_result"
    }
   ],
   "source": [
    "salaries.gender.value_counts() / salaries.shape[0]"
   ]
  },
  {
   "cell_type": "code",
   "execution_count": 44,
   "id": "3c2d0da7-4dad-4486-99f7-82773c76f1af",
   "metadata": {},
   "outputs": [
    {
     "data": {
      "text/plain": [
       "<AxesSubplot:>"
      ]
     },
     "execution_count": 44,
     "metadata": {},
     "output_type": "execute_result"
    },
    {
     "data": {
      "image/png": "[encoded data removed]",
      "text/plain": [
       "<Figure size 432x288 with 1 Axes>"
      ]
     },
     "metadata": {},
     "output_type": "display_data"
    }
   ],
   "source": [
    "(salaries.gender.value_counts() / salaries.shape[0]).plot(kind='bar')"
   ]
  },
  {
   "cell_type": "markdown",
   "id": "46308bb6-0f87-4a51-94fc-377e3e26ae52",
   "metadata": {},
   "source": [
    "### 2.7. Education, Masters_Degree, Bachelors_Degree, Doctorate_Degree, Highschool, Some_College"
   ]
  },
  {
   "cell_type": "code",
   "execution_count": 45,
   "id": "ee9d3358-5c29-4bf7-946e-d804fad3ccf3",
   "metadata": {},
   "outputs": [
    {
     "data": {
      "text/plain": [
       "count               30370\n",
       "unique                  5\n",
       "top       Master's Degree\n",
       "freq                15391\n",
       "Name: Education, dtype: object"
      ]
     },
     "execution_count": 45,
     "metadata": {},
     "output_type": "execute_result"
    }
   ],
   "source": [
    "salaries.Education.describe()"
   ]
  },
  {
   "cell_type": "code",
   "execution_count": 46,
   "id": "a29f983a-cebe-46ac-97d1-07a637bd93d5",
   "metadata": {},
   "outputs": [
    {
     "data": {
      "text/plain": [
       "Master's Degree      15391\n",
       "Bachelor's Degree    12601\n",
       "PhD                   1703\n",
       "Some College           355\n",
       "Highschool             320\n",
       "Name: Education, dtype: int64"
      ]
     },
     "execution_count": 46,
     "metadata": {},
     "output_type": "execute_result"
    }
   ],
   "source": [
    "salaries.Education.value_counts()"
   ]
  },
  {
   "cell_type": "code",
   "execution_count": 47,
   "id": "de67b247-b4d9-4da6-897d-1d27d9149a88",
   "metadata": {},
   "outputs": [
    {
     "data": {
      "text/plain": [
       "Master's Degree     0.246\n",
       "Bachelor's Degree   0.201\n",
       "PhD                 0.027\n",
       "Some College        0.006\n",
       "Highschool          0.005\n",
       "Name: Education, dtype: float64"
      ]
     },
     "execution_count": 47,
     "metadata": {},
     "output_type": "execute_result"
    }
   ],
   "source": [
    "salaries.Education.value_counts() / salaries.shape[0]"
   ]
  },
  {
   "cell_type": "code",
   "execution_count": 48,
   "id": "eb431625-de7f-47b1-8f65-88e1dc3feae6",
   "metadata": {},
   "outputs": [
    {
     "data": {
      "text/html": [
       "<div>\n",
       "<style scoped>\n",
       "    .dataframe tbody tr th:only-of-type {\n",
       "        vertical-align: middle;\n",
       "    }\n",
       "\n",
       "    .dataframe tbody tr th {\n",
       "        vertical-align: top;\n",
       "    }\n",
       "\n",
       "    .dataframe thead th {\n",
       "        text-align: right;\n",
       "    }\n",
       "</style>\n",
       "<table border=\"1\" class=\"dataframe\">\n",
       "  <thead>\n",
       "    <tr style=\"text-align: right;\">\n",
       "      <th></th>\n",
       "      <th>Education</th>\n",
       "      <th>Masters_Degree</th>\n",
       "      <th>Bachelors_Degree</th>\n",
       "      <th>Doctorate_Degree</th>\n",
       "      <th>Highschool</th>\n",
       "      <th>Some_College</th>\n",
       "      <th>count</th>\n",
       "    </tr>\n",
       "  </thead>\n",
       "  <tbody>\n",
       "    <tr>\n",
       "      <th>2</th>\n",
       "      <td>Master's Degree</td>\n",
       "      <td>1</td>\n",
       "      <td>0</td>\n",
       "      <td>0</td>\n",
       "      <td>0</td>\n",
       "      <td>0</td>\n",
       "      <td>15287</td>\n",
       "    </tr>\n",
       "    <tr>\n",
       "      <th>0</th>\n",
       "      <td>Bachelor's Degree</td>\n",
       "      <td>0</td>\n",
       "      <td>1</td>\n",
       "      <td>0</td>\n",
       "      <td>0</td>\n",
       "      <td>0</td>\n",
       "      <td>12601</td>\n",
       "    </tr>\n",
       "    <tr>\n",
       "      <th>5</th>\n",
       "      <td>PhD</td>\n",
       "      <td>0</td>\n",
       "      <td>0</td>\n",
       "      <td>1</td>\n",
       "      <td>0</td>\n",
       "      <td>0</td>\n",
       "      <td>1703</td>\n",
       "    </tr>\n",
       "    <tr>\n",
       "      <th>6</th>\n",
       "      <td>Some College</td>\n",
       "      <td>0</td>\n",
       "      <td>0</td>\n",
       "      <td>0</td>\n",
       "      <td>0</td>\n",
       "      <td>1</td>\n",
       "      <td>355</td>\n",
       "    </tr>\n",
       "    <tr>\n",
       "      <th>1</th>\n",
       "      <td>Highschool</td>\n",
       "      <td>0</td>\n",
       "      <td>0</td>\n",
       "      <td>0</td>\n",
       "      <td>1</td>\n",
       "      <td>0</td>\n",
       "      <td>320</td>\n",
       "    </tr>\n",
       "    <tr>\n",
       "      <th>3</th>\n",
       "      <td>Master's Degree</td>\n",
       "      <td>1</td>\n",
       "      <td>0</td>\n",
       "      <td>1</td>\n",
       "      <td>0</td>\n",
       "      <td>0</td>\n",
       "      <td>100</td>\n",
       "    </tr>\n",
       "    <tr>\n",
       "      <th>4</th>\n",
       "      <td>Master's Degree</td>\n",
       "      <td>1</td>\n",
       "      <td>1</td>\n",
       "      <td>0</td>\n",
       "      <td>0</td>\n",
       "      <td>0</td>\n",
       "      <td>4</td>\n",
       "    </tr>\n",
       "  </tbody>\n",
       "</table>\n",
       "</div>"
      ],
      "text/plain": [
       "           Education  Masters_Degree  Bachelors_Degree  Doctorate_Degree  \\\n",
       "2    Master's Degree               1                 0                 0   \n",
       "0  Bachelor's Degree               0                 1                 0   \n",
       "5                PhD               0                 0                 1   \n",
       "6       Some College               0                 0                 0   \n",
       "1         Highschool               0                 0                 0   \n",
       "3    Master's Degree               1                 0                 1   \n",
       "4    Master's Degree               1                 1                 0   \n",
       "\n",
       "   Highschool  Some_College  count  \n",
       "2           0             0  15287  \n",
       "0           0             0  12601  \n",
       "5           0             0   1703  \n",
       "6           0             1    355  \n",
       "1           1             0    320  \n",
       "3           0             0    100  \n",
       "4           0             0      4  "
      ]
     },
     "execution_count": 48,
     "metadata": {},
     "output_type": "execute_result"
    }
   ],
   "source": [
    "salaries.groupby([\n",
    "    'Education','Masters_Degree', 'Bachelors_Degree', 'Doctorate_Degree', 'Highschool', 'Some_College'\n",
    "]).size().reset_index().rename(columns={0:'count'}).sort_values(by='count', ascending=False)"
   ]
  },
  {
   "cell_type": "markdown",
   "id": "be0df0f4-59d4-4e8b-85bc-750a4550d89c",
   "metadata": {},
   "source": [
    "### 2.8. Race, Race_Asian, Race_White, Race_Two_Or_More, Race_Black, Race_Hispanic"
   ]
  },
  {
   "cell_type": "code",
   "execution_count": 49,
   "id": "1a6d34df-fbd6-481a-aea2-5be00b4ad2c6",
   "metadata": {},
   "outputs": [
    {
     "data": {
      "text/plain": [
       "count     22427\n",
       "unique        5\n",
       "top       Asian\n",
       "freq      11772\n",
       "Name: Race, dtype: object"
      ]
     },
     "execution_count": 49,
     "metadata": {},
     "output_type": "execute_result"
    }
   ],
   "source": [
    "salaries.Race.describe()"
   ]
  },
  {
   "cell_type": "code",
   "execution_count": 50,
   "id": "c3fcaf2f-6bd2-4253-9c14-816976825197",
   "metadata": {},
   "outputs": [
    {
     "data": {
      "text/plain": [
       "Asian          11772\n",
       "White           8032\n",
       "Hispanic        1129\n",
       "Two Or More      804\n",
       "Black            690\n",
       "Name: Race, dtype: int64"
      ]
     },
     "execution_count": 50,
     "metadata": {},
     "output_type": "execute_result"
    }
   ],
   "source": [
    "salaries.Race.value_counts()"
   ]
  },
  {
   "cell_type": "code",
   "execution_count": 51,
   "id": "40a930cd-183d-4234-bb6b-91ebb114b3b3",
   "metadata": {},
   "outputs": [
    {
     "data": {
      "text/plain": [
       "Asian         0.188\n",
       "White         0.128\n",
       "Hispanic      0.018\n",
       "Two Or More   0.013\n",
       "Black         0.011\n",
       "Name: Race, dtype: float64"
      ]
     },
     "execution_count": 51,
     "metadata": {},
     "output_type": "execute_result"
    }
   ],
   "source": [
    "salaries.Race.value_counts() / salaries.shape[0]"
   ]
  },
  {
   "cell_type": "code",
   "execution_count": 52,
   "id": "9da80f02-6678-4f40-a9d6-9dd73e56c29b",
   "metadata": {},
   "outputs": [
    {
     "data": {
      "text/html": [
       "<div>\n",
       "<style scoped>\n",
       "    .dataframe tbody tr th:only-of-type {\n",
       "        vertical-align: middle;\n",
       "    }\n",
       "\n",
       "    .dataframe tbody tr th {\n",
       "        vertical-align: top;\n",
       "    }\n",
       "\n",
       "    .dataframe thead th {\n",
       "        text-align: right;\n",
       "    }\n",
       "</style>\n",
       "<table border=\"1\" class=\"dataframe\">\n",
       "  <thead>\n",
       "    <tr style=\"text-align: right;\">\n",
       "      <th></th>\n",
       "      <th>Race</th>\n",
       "      <th>Race_Asian</th>\n",
       "      <th>Race_White</th>\n",
       "      <th>Race_Two_Or_More</th>\n",
       "      <th>Race_Black</th>\n",
       "      <th>Race_Hispanic</th>\n",
       "      <th>count</th>\n",
       "    </tr>\n",
       "  </thead>\n",
       "  <tbody>\n",
       "    <tr>\n",
       "      <th>0</th>\n",
       "      <td>Asian</td>\n",
       "      <td>1</td>\n",
       "      <td>0</td>\n",
       "      <td>0</td>\n",
       "      <td>0</td>\n",
       "      <td>0</td>\n",
       "      <td>11771</td>\n",
       "    </tr>\n",
       "    <tr>\n",
       "      <th>5</th>\n",
       "      <td>White</td>\n",
       "      <td>0</td>\n",
       "      <td>1</td>\n",
       "      <td>0</td>\n",
       "      <td>0</td>\n",
       "      <td>0</td>\n",
       "      <td>8032</td>\n",
       "    </tr>\n",
       "    <tr>\n",
       "      <th>3</th>\n",
       "      <td>Hispanic</td>\n",
       "      <td>0</td>\n",
       "      <td>0</td>\n",
       "      <td>0</td>\n",
       "      <td>0</td>\n",
       "      <td>1</td>\n",
       "      <td>1129</td>\n",
       "    </tr>\n",
       "    <tr>\n",
       "      <th>4</th>\n",
       "      <td>Two Or More</td>\n",
       "      <td>0</td>\n",
       "      <td>0</td>\n",
       "      <td>1</td>\n",
       "      <td>0</td>\n",
       "      <td>0</td>\n",
       "      <td>804</td>\n",
       "    </tr>\n",
       "    <tr>\n",
       "      <th>2</th>\n",
       "      <td>Black</td>\n",
       "      <td>0</td>\n",
       "      <td>0</td>\n",
       "      <td>0</td>\n",
       "      <td>1</td>\n",
       "      <td>0</td>\n",
       "      <td>690</td>\n",
       "    </tr>\n",
       "    <tr>\n",
       "      <th>1</th>\n",
       "      <td>Asian</td>\n",
       "      <td>1</td>\n",
       "      <td>0</td>\n",
       "      <td>0</td>\n",
       "      <td>0</td>\n",
       "      <td>1</td>\n",
       "      <td>1</td>\n",
       "    </tr>\n",
       "  </tbody>\n",
       "</table>\n",
       "</div>"
      ],
      "text/plain": [
       "          Race  Race_Asian  Race_White  Race_Two_Or_More  Race_Black  \\\n",
       "0        Asian           1           0                 0           0   \n",
       "5        White           0           1                 0           0   \n",
       "3     Hispanic           0           0                 0           0   \n",
       "4  Two Or More           0           0                 1           0   \n",
       "2        Black           0           0                 0           1   \n",
       "1        Asian           1           0                 0           0   \n",
       "\n",
       "   Race_Hispanic  count  \n",
       "0              0  11771  \n",
       "5              0   8032  \n",
       "3              1   1129  \n",
       "4              0    804  \n",
       "2              0    690  \n",
       "1              1      1  "
      ]
     },
     "execution_count": 52,
     "metadata": {},
     "output_type": "execute_result"
    }
   ],
   "source": [
    "salaries.groupby([\n",
    "    'Race','Race_Asian', 'Race_White', 'Race_Two_Or_More', 'Race_Black', 'Race_Hispanic'\n",
    "]).size().reset_index().rename(columns={0:'count'}).sort_values(by='count', ascending=False)"
   ]
  },
  {
   "cell_type": "markdown",
   "id": "9314be01-a84c-4c99-9644-59bb4aeb5e86",
   "metadata": {},
   "source": [
    "### 2.9. tag, otherdetails"
   ]
  },
  {
   "cell_type": "code",
   "execution_count": 53,
   "id": "454ff02c-0a72-4433-9673-d020b03566c4",
   "metadata": {},
   "outputs": [
    {
     "data": {
      "text/plain": [
       "count          61788\n",
       "unique          3058\n",
       "top       Full Stack\n",
       "freq           11382\n",
       "Name: tag, dtype: object"
      ]
     },
     "execution_count": 53,
     "metadata": {},
     "output_type": "execute_result"
    }
   ],
   "source": [
    "salaries.tag.describe()"
   ]
  },
  {
   "cell_type": "code",
   "execution_count": 54,
   "id": "b101b8cd-91fc-40b8-a3b7-85bec9a55b09",
   "metadata": {},
   "outputs": [
    {
     "data": {
      "text/plain": [
       "Full Stack                        11382\n",
       "Distributed Systems (Back-End)    10838\n",
       "API Development (Back-End)         6277\n",
       "ML / AI                            4204\n",
       "Web Development (Front-End)        2971\n",
       "Product                            1801\n",
       "Data                               1586\n",
       "DevOps                             1573\n",
       "Security                           1204\n",
       "Networking                         1178\n",
       "iOS                                1161\n",
       "Android                             962\n",
       "Mobile (iOS + Android)              927\n",
       "Testing (SDET)                      801\n",
       "Technical                           791\n",
       "Site Reliability (SRE)              740\n",
       "General                             694\n",
       "User Experience (UX)                685\n",
       "Production                          507\n",
       "Operations                          340\n",
       "Enterprise                          330\n",
       "Consumer                            278\n",
       "ASIC Design                         270\n",
       "Hardware                            217\n",
       "Cloud                               211\n",
       "Name: tag, dtype: int64"
      ]
     },
     "execution_count": 54,
     "metadata": {},
     "output_type": "execute_result"
    }
   ],
   "source": [
    "salaries.tag.value_counts()[:25]"
   ]
  },
  {
   "cell_type": "code",
   "execution_count": 55,
   "id": "25cc5bbe-f4de-4053-93ad-c3acc3ad5b4f",
   "metadata": {},
   "outputs": [
    {
     "data": {
      "text/plain": [
       "count       40137\n",
       "unique      12841\n",
       "top       Masters\n",
       "freq         3983\n",
       "Name: otherdetails, dtype: object"
      ]
     },
     "execution_count": 55,
     "metadata": {},
     "output_type": "execute_result"
    }
   ],
   "source": [
    "salaries.otherdetails.describe()"
   ]
  },
  {
   "cell_type": "code",
   "execution_count": 56,
   "id": "7cf23dd6-3a6b-45e1-94fe-2199c81a0fae",
   "metadata": {},
   "outputs": [
    {
     "data": {
      "text/plain": [
       "Masters                                                                                                                                3983\n",
       "Title: Software Engineer                                                                                                               1453\n",
       "Race: Asian, Academic Level: Master’s degree                                                                                           1213\n",
       "Race: White, Academic Level: Bachelor’s degree                                                                                         1075\n",
       "Race: Asian, Academic Level: Bachelor’s degree                                                                                          977\n",
       "                                                                                                                                       ... \n",
       "150,000 sign on, Title: Sr. Engineering Manager, Race: White, Academic Level: Doctorate (PhD)                                             1\n",
       "Title: Sde2, Race: Two or More Races, Academic Level: Doctorate (PhD)                                                                     1\n",
       "10k relocation, 20k sign in bonus, 35k RSU over 4 years, Title: Tech Lead, Race: Hispanic / Latino, Academic Level: Master’s degree       1\n",
       "Title: Pm 3                                                                                                                               1\n",
       "industry hire                                                                                                                             1\n",
       "Name: otherdetails, Length: 12841, dtype: int64"
      ]
     },
     "execution_count": 56,
     "metadata": {},
     "output_type": "execute_result"
    }
   ],
   "source": [
    "salaries.otherdetails.value_counts()"
   ]
  },
  {
   "cell_type": "markdown",
   "id": "8c05d5be-31c7-42a3-9730-f048b37a12b4",
   "metadata": {},
   "source": [
    "### 2.10. dmaid, rowNumber "
   ]
  },
  {
   "cell_type": "code",
   "execution_count": 57,
   "id": "05c2cd84-8c06-4169-af20-d641daa5efbe",
   "metadata": {},
   "outputs": [
    {
     "data": {
      "text/plain": [
       "count    62640.000\n",
       "unique     149.000\n",
       "top        807.000\n",
       "freq     20400.000\n",
       "Name: dmaid, dtype: float64"
      ]
     },
     "execution_count": 57,
     "metadata": {},
     "output_type": "execute_result"
    }
   ],
   "source": [
    "salaries.dmaid.astype('object').describe()"
   ]
  },
  {
   "cell_type": "code",
   "execution_count": 58,
   "id": "1e967fae-6229-47a8-b190-80d4bbfaead4",
   "metadata": {},
   "outputs": [
    {
     "data": {
      "text/plain": [
       "807.000    20400\n",
       "819.000    12343\n",
       "0.000       9826\n",
       "501.000     5156\n",
       "506.000     1773\n",
       "           ...  \n",
       "503.000        1\n",
       "687.000        1\n",
       "693.000        1\n",
       "651.000        1\n",
       "658.000        1\n",
       "Name: dmaid, Length: 149, dtype: int64"
      ]
     },
     "execution_count": 58,
     "metadata": {},
     "output_type": "execute_result"
    }
   ],
   "source": [
    "salaries.dmaid.value_counts()"
   ]
  },
  {
   "cell_type": "code",
   "execution_count": 59,
   "id": "9ae1864f-804e-49d5-bf97-0a7b4d875205",
   "metadata": {},
   "outputs": [
    {
     "data": {
      "text/plain": [
       "count     62642\n",
       "unique    62642\n",
       "top           1\n",
       "freq          1\n",
       "Name: rowNumber, dtype: int64"
      ]
     },
     "execution_count": 59,
     "metadata": {},
     "output_type": "execute_result"
    }
   ],
   "source": [
    "salaries.rowNumber.astype('object').describe()"
   ]
  },
  {
   "cell_type": "code",
   "execution_count": null,
   "id": "a29ebcdd-61fc-4e5b-955c-0482545932bf",
   "metadata": {},
   "outputs": [],
   "source": []
  },
  {
   "cell_type": "markdown",
   "id": "09126574-f331-4951-832b-482f17f14c90",
   "metadata": {},
   "source": [
    "## 3. Pairwise EDA\n",
    "\n",
    "### 3.1. totalyearlycompensation vs. timestamp"
   ]
  },
  {
   "cell_type": "code",
   "execution_count": 60,
   "id": "7beae2b2-e043-480a-995c-ac564e55bbe9",
   "metadata": {},
   "outputs": [],
   "source": [
    "salaries['date_delta'] = (salaries.date - salaries.date.min()) / np.timedelta64(1,'D')"
   ]
  },
  {
   "cell_type": "code",
   "execution_count": 61,
   "id": "a232096e-183b-4965-bb25-25103b5a8eb1",
   "metadata": {},
   "outputs": [
    {
     "name": "stdout",
     "output_type": "stream",
     "text": [
      "r   =  -0.09732989564782957\n",
      "rho =  -0.13193300719751802\n"
     ]
    }
   ],
   "source": [
    "print(\"r   = \", stats.pearsonr(salaries.totalyearlycompensation, salaries.date_delta)[0])\n",
    "print(\"rho = \", stats.spearmanr(salaries.totalyearlycompensation, salaries.date_delta)[0])"
   ]
  },
  {
   "cell_type": "code",
   "execution_count": 62,
   "id": "8f23d705-e72a-4e23-8331-d041eeac04f1",
   "metadata": {},
   "outputs": [
    {
     "data": {
      "text/plain": [
       "<matplotlib.collections.PathCollection at 0x7fdcdeb03cd0>"
      ]
     },
     "execution_count": 62,
     "metadata": {},
     "output_type": "execute_result"
    },
    {
     "data": {
      "image/png": "[encoded data removed]",
      "text/plain": [
       "<Figure size 1152x576 with 1 Axes>"
      ]
     },
     "metadata": {},
     "output_type": "display_data"
    }
   ],
   "source": [
    "plt.figure(figsize=(16,8))\n",
    "plt.scatter(salaries.date_delta, salaries.totalyearlycompensation)"
   ]
  },
  {
   "cell_type": "code",
   "execution_count": 63,
   "id": "5172fbf4-9209-4ddc-889f-e84da23880c6",
   "metadata": {},
   "outputs": [
    {
     "name": "stdout",
     "output_type": "stream",
     "text": [
      "r   =  0.05464499965916913\n",
      "rho =  -0.005475415709519218\n"
     ]
    }
   ],
   "source": [
    "salaries = salaries[salaries.totalyearlycompensation!=0]\n",
    "print(\"r   = \", stats.pearsonr(salaries.basesalary, salaries.date_delta)[0])\n",
    "print(\"rho = \", stats.spearmanr(salaries.basesalary, salaries.date_delta)[0])"
   ]
  },
  {
   "cell_type": "code",
   "execution_count": 64,
   "id": "9a61b68a-f869-43dc-9a11-f8119a03f4bb",
   "metadata": {},
   "outputs": [
    {
     "data": {
      "text/plain": [
       "<matplotlib.collections.PathCollection at 0x7fdcdf62fdc0>"
      ]
     },
     "execution_count": 64,
     "metadata": {},
     "output_type": "execute_result"
    },
    {
     "data": {
      "image/png": "[encoded data removed]",
      "text/plain": [
       "<Figure size 1152x576 with 1 Axes>"
      ]
     },
     "metadata": {},
     "output_type": "display_data"
    }
   ],
   "source": [
    "plt.figure(figsize=(16,8))\n",
    "plt.scatter(salaries.date_delta, salaries.totalyearlycompensation)"
   ]
  },
  {
   "cell_type": "markdown",
   "id": "3cc59b20-bf80-48d5-9ab9-d4704e3432c5",
   "metadata": {},
   "source": [
    "### 3.2. totalyearlycompensation vs. company"
   ]
  },
  {
   "cell_type": "code",
   "execution_count": 65,
   "id": "5f8965cb-e0e7-4869-802d-fd7464cd6d32",
   "metadata": {},
   "outputs": [],
   "source": [
    "def describe_by_category(data, numeric, categorical, transpose=False):\n",
    "    grouped = data.groupby(categorical)\n",
    "    grouped_y = grouped[numeric].describe()\n",
    "    if transpose:\n",
    "        print(grouped_y.transpose())\n",
    "    else:\n",
    "        print(grouped_y)"
   ]
  },
  {
   "cell_type": "code",
   "execution_count": 66,
   "id": "4ee02495-5268-4a24-937a-6467efd750b0",
   "metadata": {},
   "outputs": [
    {
     "data": {
      "text/plain": [
       "amazon           0.131\n",
       "microsoft        0.084\n",
       "google           0.070\n",
       "facebook         0.048\n",
       "apple            0.033\n",
       "oracle           0.018\n",
       "salesforce       0.017\n",
       "intel            0.015\n",
       "ibm              0.015\n",
       "cisco            0.015\n",
       "uber             0.014\n",
       "capital one      0.013\n",
       "linkedin         0.012\n",
       "vmware           0.011\n",
       "qualcomm         0.009\n",
       "jpmorgan chase   0.009\n",
       "bloomberg        0.009\n",
       "goldman sachs    0.008\n",
       "paypal           0.007\n",
       "intuit           0.007\n",
       "nvidia           0.006\n",
       "deloitte         0.006\n",
       "twitter          0.006\n",
       "walmart labs     0.006\n",
       "adobe            0.006\n",
       "Name: company, dtype: float64"
      ]
     },
     "execution_count": 66,
     "metadata": {},
     "output_type": "execute_result"
    }
   ],
   "source": [
    "(salaries.company.str.lower().value_counts()/salaries.shape[0])[:25]"
   ]
  },
  {
   "cell_type": "code",
   "execution_count": 67,
   "id": "04a9d03b-6dc6-4f6f-a5ad-12ee267e03fb",
   "metadata": {},
   "outputs": [
    {
     "data": {
      "text/plain": [
       "['amazon',\n",
       " 'microsoft',\n",
       " 'google',\n",
       " 'facebook',\n",
       " 'apple',\n",
       " 'oracle',\n",
       " 'salesforce',\n",
       " 'intel',\n",
       " 'ibm',\n",
       " 'cisco',\n",
       " 'uber',\n",
       " 'capital one',\n",
       " 'linkedin',\n",
       " 'vmware',\n",
       " 'qualcomm']"
      ]
     },
     "execution_count": 67,
     "metadata": {},
     "output_type": "execute_result"
    }
   ],
   "source": [
    "top_15_company = salaries.company.str.lower().value_counts()[:15].index.to_list()\n",
    "top_15_company"
   ]
  },
  {
   "cell_type": "code",
   "execution_count": 68,
   "id": "0b2abd8b-49f4-4d5a-ba9e-3b00d394531f",
   "metadata": {},
   "outputs": [
    {
     "data": {
      "text/plain": [
       "True     31561\n",
       "False    31081\n",
       "Name: is_top15_company, dtype: int64"
      ]
     },
     "execution_count": 68,
     "metadata": {},
     "output_type": "execute_result"
    }
   ],
   "source": [
    "salaries['is_top15_company'] = salaries.company.str.lower().isin(top_15_company)\n",
    "salaries.is_top15_company.value_counts()"
   ]
  },
  {
   "cell_type": "code",
   "execution_count": 69,
   "id": "905d074a-b86e-481e-a426-ba281f16bae5",
   "metadata": {},
   "outputs": [
    {
     "name": "stdout",
     "output_type": "stream",
     "text": [
      "is_top15_company       False        True\n",
      "count              31081.000   31561.000\n",
      "mean              188963.912  243221.085\n",
      "std               122795.157  146654.166\n",
      "min                10000.000   10000.000\n",
      "25%               110000.000  161000.000\n",
      "50%               162000.000  210000.000\n",
      "75%               230000.000  290000.000\n",
      "max              2500000.000 4980000.000\n"
     ]
    }
   ],
   "source": [
    "describe_by_category(salaries, 'totalyearlycompensation', 'is_top15_company', transpose=True)"
   ]
  },
  {
   "cell_type": "code",
   "execution_count": 70,
   "id": "b50ced04-7d4c-4d73-a1b8-52beb03b99e1",
   "metadata": {},
   "outputs": [],
   "source": [
    "def freeman_diaconis(data):\n",
    "    quartiles = stats.mstats.mquantiles( data, [0.25, 0.5, 0.75])\n",
    "    iqr = quartiles[2] - quartiles[ 0]\n",
    "    n = len( data)\n",
    "    h = 2.0 * (iqr/n**(1.0/3.0))\n",
    "    return int( h)"
   ]
  },
  {
   "cell_type": "code",
   "execution_count": 71,
   "id": "6aa9f451-ca39-46f6-8c45-1bcf01e9aa9d",
   "metadata": {
    "scrolled": false
   },
   "outputs": [
    {
     "data": {
      "image/png": "[encoded data removed]",
      "text/plain": [
       "<Figure size 1440x1080 with 2 Axes>"
      ]
     },
     "metadata": {},
     "output_type": "display_data"
    }
   ],
   "source": [
    "h = freeman_diaconis(salaries.totalyearlycompensation)\n",
    "mn = int(salaries.totalyearlycompensation.min())\n",
    "mx = int(salaries.totalyearlycompensation.max())\n",
    "bins = [i for i in range( mn, mx, 4*h)]\n",
    "\n",
    "grouped = salaries.groupby('is_top15_company')\n",
    "figure = plt.figure(figsize=(20, 15))\n",
    "\n",
    "axes = figure.add_subplot(2, 1, 1)\n",
    "axes.hist(grouped[\"totalyearlycompensation\"].get_group(True),bins=bins, density=True)\n",
    "axes.set_title(f\"top 15 company totalyearlycompensation distribution\")\n",
    "axes.set_xlabel(\"totalyearlycompensation\")\n",
    "axes.xaxis.set_major_formatter(mpl.ticker.StrMethodFormatter('{x:,.0f}'))\n",
    "#axes.yaxis.set_major_formatter(mpl.ticker.StrMethodFormatter('{x:.0f}'))\n",
    "axes.set_ylim([0,0.000006])\n",
    "\n",
    "axes = figure.add_subplot(2, 1, 2)\n",
    "axes.hist(grouped[\"totalyearlycompensation\"].get_group(False),bins=bins, density=True)\n",
    "axes.set_title(f\"non top 15 company totalyearlycompensation distribution\")\n",
    "axes.set_xlabel(\"totalyearlycompensation\")\n",
    "axes.xaxis.set_major_formatter(mpl.ticker.StrMethodFormatter('{x:,.0f}'))\n",
    "#axes.yaxis.set_major_formatter(mpl.ticker.StrMethodFormatter('{x:.0f}'))\n",
    "axes.set_ylim([0,0.000006])\n",
    "\n",
    "plt.show()\n",
    "plt.close()"
   ]
  },
  {
   "cell_type": "markdown",
   "id": "c1e9ee4d",
   "metadata": {},
   "source": [
    "### 3.3. totalyearlycompensation vs. location"
   ]
  },
  {
   "cell_type": "code",
   "execution_count": 72,
   "id": "c3d5e702",
   "metadata": {},
   "outputs": [
    {
     "data": {
      "text/plain": [
       "Seattle, WA                  0.139\n",
       "San Francisco, CA            0.109\n",
       "New York, NY                 0.073\n",
       "Redmond, WA                  0.042\n",
       "Mountain View, CA            0.036\n",
       "Sunnyvale, CA                0.036\n",
       "San Jose, CA                 0.033\n",
       "Austin, TX                   0.024\n",
       "Menlo Park, CA               0.023\n",
       "Cupertino, CA                0.023\n",
       "Bangalore, KA, India         0.019\n",
       "Santa Clara, CA              0.019\n",
       "Boston, MA                   0.019\n",
       "Palo Alto, CA                0.018\n",
       "London, EN, United Kingdom   0.016\n",
       "San Diego, CA                0.013\n",
       "Chicago, IL                  0.013\n",
       "Toronto, ON, Canada          0.012\n",
       "Bellevue, WA                 0.012\n",
       "Los Angeles, CA              0.011\n",
       "Washington, DC               0.009\n",
       "Vancouver, BC, Canada        0.009\n",
       "Atlanta, GA                  0.008\n",
       "Bengaluru, KA, India         0.008\n",
       "Dallas, TX                   0.008\n",
       "Name: location, dtype: float64"
      ]
     },
     "execution_count": 72,
     "metadata": {},
     "output_type": "execute_result"
    }
   ],
   "source": [
    "(salaries.location.value_counts()/salaries.shape[0])[:25]"
   ]
  },
  {
   "cell_type": "code",
   "execution_count": 73,
   "id": "f379c0f9",
   "metadata": {},
   "outputs": [
    {
     "data": {
      "text/plain": [
       "['Seattle, WA',\n",
       " 'San Francisco, CA',\n",
       " 'New York, NY',\n",
       " 'Redmond, WA',\n",
       " 'Mountain View, CA',\n",
       " 'Sunnyvale, CA',\n",
       " 'San Jose, CA',\n",
       " 'Austin, TX',\n",
       " 'Menlo Park, CA',\n",
       " 'Cupertino, CA']"
      ]
     },
     "execution_count": 73,
     "metadata": {},
     "output_type": "execute_result"
    }
   ],
   "source": [
    "top_10_location = salaries.location.value_counts()[:10].index.to_list()\n",
    "top_10_location"
   ]
  },
  {
   "cell_type": "code",
   "execution_count": 74,
   "id": "6998e660",
   "metadata": {},
   "outputs": [
    {
     "data": {
      "text/plain": [
       "True     33677\n",
       "False    28965\n",
       "Name: is_top10_location, dtype: int64"
      ]
     },
     "execution_count": 74,
     "metadata": {},
     "output_type": "execute_result"
    }
   ],
   "source": [
    "salaries['is_top10_location'] = salaries.location.isin(top_10_location)\n",
    "salaries.is_top10_location.value_counts()"
   ]
  },
  {
   "cell_type": "code",
   "execution_count": 75,
   "id": "99113a59",
   "metadata": {},
   "outputs": [
    {
     "name": "stdout",
     "output_type": "stream",
     "text": [
      "is_top10_location       False        True\n",
      "count               28965.000   33677.000\n",
      "mean               164592.995  260772.988\n",
      "std                107115.256  145929.642\n",
      "min                 10000.000   11000.000\n",
      "25%                 98000.000  173000.000\n",
      "50%                144000.000  224000.000\n",
      "75%                203000.000  305000.000\n",
      "max               2500000.000 4980000.000\n"
     ]
    }
   ],
   "source": [
    "describe_by_category(salaries, 'totalyearlycompensation', 'is_top10_location', transpose=True)"
   ]
  },
  {
   "cell_type": "code",
   "execution_count": 76,
   "id": "91d28434",
   "metadata": {},
   "outputs": [
    {
     "data": {
      "image/png": "[encoded data removed]",
      "text/plain": [
       "<Figure size 1440x1080 with 2 Axes>"
      ]
     },
     "metadata": {},
     "output_type": "display_data"
    }
   ],
   "source": [
    "grouped = salaries.groupby('is_top10_location')\n",
    "figure = plt.figure(figsize=(20, 15))\n",
    "\n",
    "axes = figure.add_subplot(2, 1, 1)\n",
    "axes.hist(grouped[\"totalyearlycompensation\"].get_group(True),bins=bins, density=True)\n",
    "axes.set_title(f\"top 10 location totalyearlycompensation distribution\")\n",
    "axes.set_xlabel(\"totalyearlycompensation\")\n",
    "axes.xaxis.set_major_formatter(mpl.ticker.StrMethodFormatter('{x:,.0f}'))\n",
    "#axes.yaxis.set_major_formatter(mpl.ticker.StrMethodFormatter('{x:.0f}'))\n",
    "axes.set_ylim([0,0.000006])\n",
    "\n",
    "axes = figure.add_subplot(2, 1, 2)\n",
    "axes.hist(grouped[\"totalyearlycompensation\"].get_group(False),bins=bins, density=True)\n",
    "axes.set_title(f\"non top 10 location totalyearlycompensation distribution\")\n",
    "axes.set_xlabel(\"totalyearlycompensation\")\n",
    "axes.xaxis.set_major_formatter(mpl.ticker.StrMethodFormatter('{x:,.0f}'))\n",
    "#axes.yaxis.set_major_formatter(mpl.ticker.StrMethodFormatter('{x:.0f}'))\n",
    "axes.set_ylim([0,0.000006])\n",
    "\n",
    "plt.show()\n",
    "plt.close()"
   ]
  },
  {
   "cell_type": "markdown",
   "id": "734dd955",
   "metadata": {},
   "source": [
    "### 3.4. totalyearlycompensation vs. yearsofexperience"
   ]
  },
  {
   "cell_type": "code",
   "execution_count": 77,
   "id": "ff6279b2",
   "metadata": {},
   "outputs": [
    {
     "name": "stdout",
     "output_type": "stream",
     "text": [
      "r   =  0.4228791379682704\n",
      "rho =  0.4564800792963517\n"
     ]
    }
   ],
   "source": [
    "print(\"r   = \", stats.pearsonr(salaries.totalyearlycompensation, salaries.yearsofexperience)[0])\n",
    "print(\"rho = \", stats.spearmanr(salaries.totalyearlycompensation, salaries.yearsofexperience)[0])"
   ]
  },
  {
   "cell_type": "code",
   "execution_count": 78,
   "id": "3976aada",
   "metadata": {},
   "outputs": [
    {
     "data": {
      "image/png": "[encoded data removed]",
      "text/plain": [
       "<Figure size 1152x576 with 1 Axes>"
      ]
     },
     "metadata": {},
     "output_type": "display_data"
    }
   ],
   "source": [
    "plt.figure(figsize=(16,8))\n",
    "plt.scatter(salaries.yearsofexperience, salaries.totalyearlycompensation, alpha=0.2)\n",
    "plt.show()"
   ]
  },
  {
   "cell_type": "markdown",
   "id": "5eaf3c65",
   "metadata": {},
   "source": [
    "### 3.5. totalyearlycompensation vs. gender"
   ]
  },
  {
   "cell_type": "code",
   "execution_count": 79,
   "id": "f77308ec",
   "metadata": {},
   "outputs": [
    {
     "name": "stdout",
     "output_type": "stream",
     "text": [
      "gender      Female        Male       Other     Unknown\n",
      "count     6999.000   35702.000     400.000   19541.000\n",
      "mean    195119.589  212446.978  232347.500  230598.485\n",
      "std     104925.755  139631.660  141282.389  143910.894\n",
      "min      10000.000   10000.000   16000.000   10000.000\n",
      "25%     132000.000  130000.000  138000.000  143000.000\n",
      "50%     175000.000  185000.000  195000.000  200000.000\n",
      "75%     232000.000  260000.000  300000.000  280000.000\n",
      "max    1605000.000 4980000.000 1000000.000 4490000.000\n"
     ]
    }
   ],
   "source": [
    "describe_by_category(salaries, 'totalyearlycompensation', 'gender', transpose=True)"
   ]
  },
  {
   "cell_type": "code",
   "execution_count": 81,
   "id": "3081f9f7",
   "metadata": {},
   "outputs": [
    {
     "data": {
      "image/png": "[encoded data removed]",
      "text/plain": [
       "<Figure size 1440x1440 with 4 Axes>"
      ]
     },
     "metadata": {},
     "output_type": "display_data"
    }
   ],
   "source": [
    "grouped = salaries.groupby('gender')\n",
    "figure = plt.figure(figsize=(20, 20))\n",
    "\n",
    "for idx, gender in enumerate(['Female', 'Male', 'Other', 'Unknown']):\n",
    "    axes = figure.add_subplot(4, 1, idx+1)\n",
    "    axes.hist(grouped[\"totalyearlycompensation\"].get_group(gender),bins=bins, density=True)\n",
    "    axes.set_title(f\"{gender} totalyearlycompensation distribution\")\n",
    "    axes.set_xlabel(\"totalyearlycompensation\")\n",
    "    axes.xaxis.set_major_formatter(mpl.ticker.StrMethodFormatter('{x:,.0f}'))\n",
    "    #axes.yaxis.set_major_formatter(mpl.ticker.StrMethodFormatter('{x:.0f}'))\n",
    "    axes.set_ylim([0,0.000007])"
   ]
  },
  {
   "cell_type": "code",
   "execution_count": null,
   "id": "1b96faf6",
   "metadata": {},
   "outputs": [],
   "source": []
  }
 ],
 "metadata": {
  "kernelspec": {
   "display_name": "Python (en685648)",
   "language": "python",
   "name": "en685648"
  },
  "language_info": {
   "codemirror_mode": {
    "name": "ipython",
    "version": 3
   },
   "file_extension": ".py",
   "mimetype": "text/x-python",
   "name": "python",
   "nbconvert_exporter": "python",
   "pygments_lexer": "ipython3",
   "version": "3.8.12"
  }
 },
 "nbformat": 4,
 "nbformat_minor": 5
}
