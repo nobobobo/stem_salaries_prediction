{
 "cells": [
  {
   "cell_type": "code",
   "execution_count": 1,
   "id": "7ff364b7-2417-4602-a339-7b4f78d1d09a",
   "metadata": {},
   "outputs": [
    {
     "name": "stdout",
     "output_type": "stream",
     "text": [
      "Requirement already satisfied: opendatasets in /Users/nobo/opt/anaconda3/envs/en685648/lib/python3.8/site-packages (0.1.22)\n",
      "Requirement already satisfied: click in /Users/nobo/opt/anaconda3/envs/en685648/lib/python3.8/site-packages (from opendatasets) (8.0.3)\n",
      "Requirement already satisfied: kaggle in /Users/nobo/opt/anaconda3/envs/en685648/lib/python3.8/site-packages (from opendatasets) (1.5.12)\n",
      "Requirement already satisfied: tqdm in /Users/nobo/opt/anaconda3/envs/en685648/lib/python3.8/site-packages (from opendatasets) (4.64.0)\n",
      "Requirement already satisfied: certifi in /Users/nobo/opt/anaconda3/envs/en685648/lib/python3.8/site-packages (from kaggle->opendatasets) (2021.10.8)\n",
      "Requirement already satisfied: python-dateutil in /Users/nobo/opt/anaconda3/envs/en685648/lib/python3.8/site-packages (from kaggle->opendatasets) (2.8.2)\n",
      "Requirement already satisfied: six>=1.10 in /Users/nobo/opt/anaconda3/envs/en685648/lib/python3.8/site-packages (from kaggle->opendatasets) (1.16.0)\n",
      "Requirement already satisfied: python-slugify in /Users/nobo/opt/anaconda3/envs/en685648/lib/python3.8/site-packages (from kaggle->opendatasets) (6.1.2)\n",
      "Requirement already satisfied: urllib3 in /Users/nobo/opt/anaconda3/envs/en685648/lib/python3.8/site-packages (from kaggle->opendatasets) (1.26.8)\n",
      "Requirement already satisfied: requests in /Users/nobo/opt/anaconda3/envs/en685648/lib/python3.8/site-packages (from kaggle->opendatasets) (2.27.1)\n",
      "Requirement already satisfied: text-unidecode>=1.3 in /Users/nobo/opt/anaconda3/envs/en685648/lib/python3.8/site-packages (from python-slugify->kaggle->opendatasets) (1.3)\n",
      "Requirement already satisfied: charset-normalizer~=2.0.0 in /Users/nobo/opt/anaconda3/envs/en685648/lib/python3.8/site-packages (from requests->kaggle->opendatasets) (2.0.11)\n",
      "Requirement already satisfied: idna<4,>=2.5 in /Users/nobo/opt/anaconda3/envs/en685648/lib/python3.8/site-packages (from requests->kaggle->opendatasets) (3.3)\n"
     ]
    }
   ],
   "source": [
    "!pip install opendatasets\n",
    "import opendatasets as od"
   ]
  },
  {
   "cell_type": "code",
   "execution_count": 2,
   "id": "b7af61c9-dc5a-4a9b-8f4f-7cf056e2900d",
   "metadata": {},
   "outputs": [
    {
     "name": "stdout",
     "output_type": "stream",
     "text": [
      "Please provide your Kaggle credentials to download this dataset. Learn more: http://bit.ly/kaggle-creds\n",
      "Your Kaggle username:"
     ]
    },
    {
     "name": "stdin",
     "output_type": "stream",
     "text": [
      "  nobobobo\n"
     ]
    },
    {
     "name": "stdout",
     "output_type": "stream",
     "text": [
      "Your Kaggle Key:"
     ]
    },
    {
     "name": "stdin",
     "output_type": "stream",
     "text": [
      "  ································\n"
     ]
    },
    {
     "name": "stdout",
     "output_type": "stream",
     "text": [
      "Downloading data-science-and-stem-salaries.zip to ./data/data-science-and-stem-salaries\n"
     ]
    },
    {
     "name": "stderr",
     "output_type": "stream",
     "text": [
      "100%|███████████████████████████████████| 2.45M/2.45M [00:00<00:00, 15.2MB/s]"
     ]
    },
    {
     "name": "stdout",
     "output_type": "stream",
     "text": [
      "\n"
     ]
    },
    {
     "name": "stderr",
     "output_type": "stream",
     "text": [
      "\n"
     ]
    }
   ],
   "source": [
    "od.download(\"https://www.kaggle.com/datasets/jackogozaly/data-science-and-stem-salaries\", \"./data/\")"
   ]
  },
  {
   "cell_type": "code",
   "execution_count": 3,
   "id": "705e7e8a-f9aa-4168-a1eb-600e81096c62",
   "metadata": {},
   "outputs": [],
   "source": [
    "!mv ./data/data-science-and-stem-salaries/Levels_Fyi_Salary_Data.csv ./data/\n",
    "!rmdir ./data/data-science-and-stem-salaries/"
   ]
  },
  {
   "cell_type": "code",
   "execution_count": 4,
   "id": "88c7addb-bfff-4b68-b562-3fa4662f3af6",
   "metadata": {},
   "outputs": [
    {
     "name": "stdout",
     "output_type": "stream",
     "text": [
      "Levels_Fyi_Salary_Data.csv\n"
     ]
    }
   ],
   "source": [
    "!ls ./data/"
   ]
  },
  {
   "cell_type": "code",
   "execution_count": null,
   "id": "b3dba1b1-b533-45ab-8959-9717ecead500",
   "metadata": {},
   "outputs": [],
   "source": []
  }
 ],
 "metadata": {
  "kernelspec": {
   "display_name": "Python (en685648)",
   "language": "python",
   "name": "en685648"
  },
  "language_info": {
   "codemirror_mode": {
    "name": "ipython",
    "version": 3
   },
   "file_extension": ".py",
   "mimetype": "text/x-python",
   "name": "python",
   "nbconvert_exporter": "python",
   "pygments_lexer": "ipython3",
   "version": "3.8.12"
  }
 },
 "nbformat": 4,
 "nbformat_minor": 5
}
